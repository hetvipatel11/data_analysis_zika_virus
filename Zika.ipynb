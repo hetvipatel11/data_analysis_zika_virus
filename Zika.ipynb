{
  "nbformat": 4,
  "nbformat_minor": 0,
  "metadata": {
    "colab": {
      "name": "Zika.ipynb",
      "provenance": [],
      "collapsed_sections": []
    },
    "kernelspec": {
      "name": "python3",
      "display_name": "Python 3"
    },
    "language_info": {
      "name": "python"
    }
  },
  "cells": [
    {
      "cell_type": "markdown",
      "metadata": {
        "id": "FrETcr9try-b"
      },
      "source": [
        "# **Libraries**\n",
        "\n",
        "# **Exploratory Analysis**\n",
        "\n",
        "*   Data Cleaning\n",
        "\n",
        "# **Data Pre-Processing**\n",
        "\n",
        "# **Data Visualization**\n",
        "\n",
        "# **Classification**\n",
        "\n",
        "\n",
        "*   Regression analysis\n",
        "*   Random Forest\n",
        "\n",
        "\n",
        "\n",
        "\n",
        "\n",
        "\n"
      ]
    },
    {
      "cell_type": "code",
      "metadata": {
        "id": "F5nUWWypTRvv",
        "colab": {
          "base_uri": "https://localhost:8080/"
        },
        "outputId": "01ae321c-0207-492a-b8ea-a1b6d51d908f"
      },
      "source": [
        "!pip install geopandas"
      ],
      "execution_count": null,
      "outputs": [
        {
          "output_type": "stream",
          "name": "stdout",
          "text": [
            "Collecting geopandas\n",
            "  Downloading geopandas-0.9.0-py2.py3-none-any.whl (994 kB)\n",
            "\u001b[K     |████████████████████████████████| 994 kB 5.2 MB/s \n",
            "\u001b[?25hCollecting fiona>=1.8\n",
            "  Downloading Fiona-1.8.20-cp37-cp37m-manylinux1_x86_64.whl (15.4 MB)\n",
            "\u001b[K     |████████████████████████████████| 15.4 MB 38 kB/s \n",
            "\u001b[?25hCollecting pyproj>=2.2.0\n",
            "  Downloading pyproj-3.2.1-cp37-cp37m-manylinux2010_x86_64.whl (6.3 MB)\n",
            "\u001b[K     |████████████████████████████████| 6.3 MB 57.5 MB/s \n",
            "\u001b[?25hRequirement already satisfied: pandas>=0.24.0 in /usr/local/lib/python3.7/dist-packages (from geopandas) (1.1.5)\n",
            "Requirement already satisfied: shapely>=1.6 in /usr/local/lib/python3.7/dist-packages (from geopandas) (1.7.1)\n",
            "Requirement already satisfied: setuptools in /usr/local/lib/python3.7/dist-packages (from fiona>=1.8->geopandas) (57.4.0)\n",
            "Requirement already satisfied: certifi in /usr/local/lib/python3.7/dist-packages (from fiona>=1.8->geopandas) (2021.5.30)\n",
            "Collecting click-plugins>=1.0\n",
            "  Downloading click_plugins-1.1.1-py2.py3-none-any.whl (7.5 kB)\n",
            "Collecting munch\n",
            "  Downloading munch-2.5.0-py2.py3-none-any.whl (10 kB)\n",
            "Requirement already satisfied: click>=4.0 in /usr/local/lib/python3.7/dist-packages (from fiona>=1.8->geopandas) (7.1.2)\n",
            "Requirement already satisfied: attrs>=17 in /usr/local/lib/python3.7/dist-packages (from fiona>=1.8->geopandas) (21.2.0)\n",
            "Requirement already satisfied: six>=1.7 in /usr/local/lib/python3.7/dist-packages (from fiona>=1.8->geopandas) (1.15.0)\n",
            "Collecting cligj>=0.5\n",
            "  Downloading cligj-0.7.2-py3-none-any.whl (7.1 kB)\n",
            "Requirement already satisfied: numpy>=1.15.4 in /usr/local/lib/python3.7/dist-packages (from pandas>=0.24.0->geopandas) (1.19.5)\n",
            "Requirement already satisfied: python-dateutil>=2.7.3 in /usr/local/lib/python3.7/dist-packages (from pandas>=0.24.0->geopandas) (2.8.2)\n",
            "Requirement already satisfied: pytz>=2017.2 in /usr/local/lib/python3.7/dist-packages (from pandas>=0.24.0->geopandas) (2018.9)\n",
            "Installing collected packages: munch, cligj, click-plugins, pyproj, fiona, geopandas\n",
            "Successfully installed click-plugins-1.1.1 cligj-0.7.2 fiona-1.8.20 geopandas-0.9.0 munch-2.5.0 pyproj-3.2.1\n"
          ]
        }
      ]
    },
    {
      "cell_type": "markdown",
      "metadata": {
        "id": "EzUziDJ2PS_L"
      },
      "source": [
        " **Libraries**"
      ]
    },
    {
      "cell_type": "code",
      "metadata": {
        "id": "4Ns9G52NLn22"
      },
      "source": [
        "import pandas as pd\n",
        "import numpy as np\n",
        "import matplotlib.pyplot as plt\n",
        "import seaborn as sns\n",
        "import geopandas as gpd\n",
        "from geopandas.tools import geocode\n",
        "import plotly.express as px\n"
      ],
      "execution_count": null,
      "outputs": []
    },
    {
      "cell_type": "markdown",
      "metadata": {
        "id": "s-_RdtnWRqFA"
      },
      "source": [
        "# **Analysis...**"
      ]
    },
    {
      "cell_type": "code",
      "metadata": {
        "id": "Ckx3DkcpL59a"
      },
      "source": [
        "#loading the dataset\n",
        "data = pd.read_csv('zika.csv')"
      ],
      "execution_count": null,
      "outputs": []
    },
    {
      "cell_type": "code",
      "metadata": {
        "colab": {
          "base_uri": "https://localhost:8080/",
          "height": 606
        },
        "id": "7ye5QhPMLyWB",
        "outputId": "dbe11717-636a-48e4-d06e-42624ed09594"
      },
      "source": [
        "data.head()\n",
        "data"
      ],
      "execution_count": null,
      "outputs": [
        {
          "output_type": "execute_result",
          "data": {
            "text/html": [
              "<div>\n",
              "<style scoped>\n",
              "    .dataframe tbody tr th:only-of-type {\n",
              "        vertical-align: middle;\n",
              "    }\n",
              "\n",
              "    .dataframe tbody tr th {\n",
              "        vertical-align: top;\n",
              "    }\n",
              "\n",
              "    .dataframe thead th {\n",
              "        text-align: right;\n",
              "    }\n",
              "</style>\n",
              "<table border=\"1\" class=\"dataframe\">\n",
              "  <thead>\n",
              "    <tr style=\"text-align: right;\">\n",
              "      <th></th>\n",
              "      <th>Country</th>\n",
              "      <th>Date</th>\n",
              "      <th>Cumulative no. of confirmed, probable and suspected cases</th>\n",
              "      <th>Cumulative no. of confirmed, probable and suspected deaths</th>\n",
              "    </tr>\n",
              "  </thead>\n",
              "  <tbody>\n",
              "    <tr>\n",
              "      <th>0</th>\n",
              "      <td>Guinea</td>\n",
              "      <td>29-08-2014</td>\n",
              "      <td>648.0</td>\n",
              "      <td>430</td>\n",
              "    </tr>\n",
              "    <tr>\n",
              "      <th>1</th>\n",
              "      <td>Nigeria</td>\n",
              "      <td>29-08-2014</td>\n",
              "      <td>19.0</td>\n",
              "      <td>7</td>\n",
              "    </tr>\n",
              "    <tr>\n",
              "      <th>2</th>\n",
              "      <td>Sierra Leone</td>\n",
              "      <td>29-08-2014</td>\n",
              "      <td>1026.0</td>\n",
              "      <td>422</td>\n",
              "    </tr>\n",
              "    <tr>\n",
              "      <th>3</th>\n",
              "      <td>Liberia</td>\n",
              "      <td>29-08-2014</td>\n",
              "      <td>1378.0</td>\n",
              "      <td>694</td>\n",
              "    </tr>\n",
              "    <tr>\n",
              "      <th>4</th>\n",
              "      <td>Sierra Leone</td>\n",
              "      <td>05-09-2014</td>\n",
              "      <td>1261.0</td>\n",
              "      <td>491</td>\n",
              "    </tr>\n",
              "    <tr>\n",
              "      <th>...</th>\n",
              "      <td>...</td>\n",
              "      <td>...</td>\n",
              "      <td>...</td>\n",
              "      <td>...</td>\n",
              "    </tr>\n",
              "    <tr>\n",
              "      <th>2480</th>\n",
              "      <td>Liberia</td>\n",
              "      <td>23-03-2016</td>\n",
              "      <td>10666.0</td>\n",
              "      <td>4806</td>\n",
              "    </tr>\n",
              "    <tr>\n",
              "      <th>2481</th>\n",
              "      <td>Italy</td>\n",
              "      <td>23-03-2016</td>\n",
              "      <td>1.0</td>\n",
              "      <td>0</td>\n",
              "    </tr>\n",
              "    <tr>\n",
              "      <th>2482</th>\n",
              "      <td>Liberia</td>\n",
              "      <td>23-03-2016</td>\n",
              "      <td>5.0</td>\n",
              "      <td>4</td>\n",
              "    </tr>\n",
              "    <tr>\n",
              "      <th>2483</th>\n",
              "      <td>Nigeria</td>\n",
              "      <td>23-03-2016</td>\n",
              "      <td>20.0</td>\n",
              "      <td>8</td>\n",
              "    </tr>\n",
              "    <tr>\n",
              "      <th>2484</th>\n",
              "      <td>United States of America</td>\n",
              "      <td>23-03-2016</td>\n",
              "      <td>4.0</td>\n",
              "      <td>1</td>\n",
              "    </tr>\n",
              "  </tbody>\n",
              "</table>\n",
              "<p>2485 rows × 4 columns</p>\n",
              "</div>"
            ],
            "text/plain": [
              "                       Country  ... Cumulative no. of confirmed, probable and suspected deaths\n",
              "0                       Guinea  ...                                                430        \n",
              "1                      Nigeria  ...                                                  7        \n",
              "2                 Sierra Leone  ...                                                422        \n",
              "3                      Liberia  ...                                                694        \n",
              "4                 Sierra Leone  ...                                                491        \n",
              "...                        ...  ...                                                ...        \n",
              "2480                   Liberia  ...                                               4806        \n",
              "2481                     Italy  ...                                                  0        \n",
              "2482                   Liberia  ...                                                  4        \n",
              "2483                   Nigeria  ...                                                  8        \n",
              "2484  United States of America  ...                                                  1        \n",
              "\n",
              "[2485 rows x 4 columns]"
            ]
          },
          "metadata": {},
          "execution_count": 4
        }
      ]
    },
    {
      "cell_type": "code",
      "metadata": {
        "colab": {
          "base_uri": "https://localhost:8080/"
        },
        "id": "eta__w4AL34e",
        "outputId": "fba7f16e-656f-4592-b1aa-353b09ba8699"
      },
      "source": [
        "data.info()"
      ],
      "execution_count": null,
      "outputs": [
        {
          "output_type": "stream",
          "name": "stdout",
          "text": [
            "<class 'pandas.core.frame.DataFrame'>\n",
            "RangeIndex: 2485 entries, 0 to 2484\n",
            "Data columns (total 4 columns):\n",
            " #   Column                                                      Non-Null Count  Dtype  \n",
            "---  ------                                                      --------------  -----  \n",
            " 0   Country                                                     2485 non-null   object \n",
            " 1   Date                                                        2485 non-null   object \n",
            " 2   Cumulative no. of confirmed, probable and suspected cases   2477 non-null   float64\n",
            " 3   Cumulative no. of confirmed, probable and suspected deaths  2485 non-null   int64  \n",
            "dtypes: float64(1), int64(1), object(2)\n",
            "memory usage: 77.8+ KB\n"
          ]
        }
      ]
    },
    {
      "cell_type": "code",
      "metadata": {
        "colab": {
          "base_uri": "https://localhost:8080/"
        },
        "id": "x_P9q0kgNXFv",
        "outputId": "30c33f3d-8e8b-4d9d-b6f5-c4e92a5cd361"
      },
      "source": [
        "idsUnique=len(set(data.Date))\n",
        "idsTotal=len(data)\n",
        "print(\"duplicate ids \"+str(idsTotal-idsUnique))"
      ],
      "execution_count": null,
      "outputs": [
        {
          "output_type": "stream",
          "name": "stdout",
          "text": [
            "duplicate ids 2226\n"
          ]
        }
      ]
    },
    {
      "cell_type": "code",
      "metadata": {
        "colab": {
          "base_uri": "https://localhost:8080/"
        },
        "id": "BCAFlmfWNXDV",
        "outputId": "aefde8bf-e2ea-4ae4-f1eb-158c51c4715c"
      },
      "source": [
        "numeric_features=data.select_dtypes(include=[np.number])\n",
        "numeric_features.dtypes"
      ],
      "execution_count": null,
      "outputs": [
        {
          "output_type": "execute_result",
          "data": {
            "text/plain": [
              "Cumulative no. of confirmed, probable and suspected cases     float64\n",
              "Cumulative no. of confirmed, probable and suspected deaths      int64\n",
              "dtype: object"
            ]
          },
          "metadata": {},
          "execution_count": 7
        }
      ]
    },
    {
      "cell_type": "code",
      "metadata": {
        "colab": {
          "base_uri": "https://localhost:8080/",
          "height": 162
        },
        "id": "iJq32gWFNXA8",
        "outputId": "249b06cc-158b-4f1e-ab8c-dcb51f7a086d"
      },
      "source": [
        "corr=numeric_features.corr()\n",
        "corr"
      ],
      "execution_count": null,
      "outputs": [
        {
          "output_type": "execute_result",
          "data": {
            "text/html": [
              "<div>\n",
              "<style scoped>\n",
              "    .dataframe tbody tr th:only-of-type {\n",
              "        vertical-align: middle;\n",
              "    }\n",
              "\n",
              "    .dataframe tbody tr th {\n",
              "        vertical-align: top;\n",
              "    }\n",
              "\n",
              "    .dataframe thead th {\n",
              "        text-align: right;\n",
              "    }\n",
              "</style>\n",
              "<table border=\"1\" class=\"dataframe\">\n",
              "  <thead>\n",
              "    <tr style=\"text-align: right;\">\n",
              "      <th></th>\n",
              "      <th>Cumulative no. of confirmed, probable and suspected cases</th>\n",
              "      <th>Cumulative no. of confirmed, probable and suspected deaths</th>\n",
              "    </tr>\n",
              "  </thead>\n",
              "  <tbody>\n",
              "    <tr>\n",
              "      <th>Cumulative no. of confirmed, probable and suspected cases</th>\n",
              "      <td>1.0000</td>\n",
              "      <td>0.9558</td>\n",
              "    </tr>\n",
              "    <tr>\n",
              "      <th>Cumulative no. of confirmed, probable and suspected deaths</th>\n",
              "      <td>0.9558</td>\n",
              "      <td>1.0000</td>\n",
              "    </tr>\n",
              "  </tbody>\n",
              "</table>\n",
              "</div>"
            ],
            "text/plain": [
              "                                                    Cumulative no. of confirmed, probable and suspected cases  Cumulative no. of confirmed, probable and suspected deaths\n",
              "Cumulative no. of confirmed, probable and suspe...                                             1.0000                                                     0.9558         \n",
              "Cumulative no. of confirmed, probable and suspe...                                             0.9558                                                     1.0000         "
            ]
          },
          "metadata": {},
          "execution_count": 8
        }
      ]
    },
    {
      "cell_type": "markdown",
      "metadata": {
        "id": "iWI6QJ5dRu-b"
      },
      "source": [
        "# **Data Cleaning**"
      ]
    },
    {
      "cell_type": "code",
      "metadata": {
        "colab": {
          "base_uri": "https://localhost:8080/",
          "height": 272
        },
        "id": "MEphkkSyRmMo",
        "outputId": "99eeec4e-ad93-40f4-b6bf-db2be3c3a087"
      },
      "source": [
        "data.columns = ['Country', 'Date', 'Cumulative no. cases', 'Cumulative no. deaths']\n",
        "\n",
        "# fix data\n",
        "for col in ['Cumulative no. cases', 'Cumulative no. deaths']:\n",
        "    # fill na with 0\n",
        "    data[col] = data[col].fillna(0)\n",
        "    # convert data type to 'int'\n",
        "    data[col] = data[col].astype('int')\n",
        "    \n",
        "# group by date and country\n",
        "data = data.groupby(['Date', 'Country'])['Cumulative no. cases', 'Cumulative no. deaths'].sum()\n",
        "\n",
        "# reset index\n",
        "data = data.reset_index()\n",
        "\n",
        "# CFR\n",
        "data['CFR'] = round((data['Cumulative no. deaths'] / data['Cumulative no. cases']) * 100, 2)\n",
        "\n",
        "# first few rows\n",
        "data.head()\n"
      ],
      "execution_count": null,
      "outputs": [
        {
          "output_type": "stream",
          "name": "stderr",
          "text": [
            "/usr/local/lib/python3.7/dist-packages/ipykernel_launcher.py:11: FutureWarning:\n",
            "\n",
            "Indexing with multiple keys (implicitly converted to a tuple of keys) will be deprecated, use a list instead.\n",
            "\n"
          ]
        },
        {
          "output_type": "execute_result",
          "data": {
            "text/html": [
              "<div>\n",
              "<style scoped>\n",
              "    .dataframe tbody tr th:only-of-type {\n",
              "        vertical-align: middle;\n",
              "    }\n",
              "\n",
              "    .dataframe tbody tr th {\n",
              "        vertical-align: top;\n",
              "    }\n",
              "\n",
              "    .dataframe thead th {\n",
              "        text-align: right;\n",
              "    }\n",
              "</style>\n",
              "<table border=\"1\" class=\"dataframe\">\n",
              "  <thead>\n",
              "    <tr style=\"text-align: right;\">\n",
              "      <th></th>\n",
              "      <th>Date</th>\n",
              "      <th>Country</th>\n",
              "      <th>Cumulative no. cases</th>\n",
              "      <th>Cumulative no. deaths</th>\n",
              "      <th>CFR</th>\n",
              "    </tr>\n",
              "  </thead>\n",
              "  <tbody>\n",
              "    <tr>\n",
              "      <th>0</th>\n",
              "      <td>01-05-2015</td>\n",
              "      <td>Guinea</td>\n",
              "      <td>3578</td>\n",
              "      <td>2383</td>\n",
              "      <td>66.60</td>\n",
              "    </tr>\n",
              "    <tr>\n",
              "      <th>1</th>\n",
              "      <td>01-05-2015</td>\n",
              "      <td>Liberia</td>\n",
              "      <td>10322</td>\n",
              "      <td>4608</td>\n",
              "      <td>44.64</td>\n",
              "    </tr>\n",
              "    <tr>\n",
              "      <th>2</th>\n",
              "      <td>01-05-2015</td>\n",
              "      <td>Mali</td>\n",
              "      <td>8</td>\n",
              "      <td>6</td>\n",
              "      <td>75.00</td>\n",
              "    </tr>\n",
              "    <tr>\n",
              "      <th>3</th>\n",
              "      <td>01-05-2015</td>\n",
              "      <td>Nigeria</td>\n",
              "      <td>20</td>\n",
              "      <td>8</td>\n",
              "      <td>40.00</td>\n",
              "    </tr>\n",
              "    <tr>\n",
              "      <th>4</th>\n",
              "      <td>01-05-2015</td>\n",
              "      <td>Senegal</td>\n",
              "      <td>1</td>\n",
              "      <td>0</td>\n",
              "      <td>0.00</td>\n",
              "    </tr>\n",
              "  </tbody>\n",
              "</table>\n",
              "</div>"
            ],
            "text/plain": [
              "         Date  Country  Cumulative no. cases  Cumulative no. deaths    CFR\n",
              "0  01-05-2015   Guinea                  3578                   2383  66.60\n",
              "1  01-05-2015  Liberia                 10322                   4608  44.64\n",
              "2  01-05-2015     Mali                     8                      6  75.00\n",
              "3  01-05-2015  Nigeria                    20                      8  40.00\n",
              "4  01-05-2015  Senegal                     1                      0   0.00"
            ]
          },
          "metadata": {},
          "execution_count": 9
        }
      ]
    },
    {
      "cell_type": "code",
      "metadata": {
        "colab": {
          "base_uri": "https://localhost:8080/"
        },
        "id": "qj44EdpWsp3w",
        "outputId": "07f4b150-d7fa-4107-f346-3d983148fbff"
      },
      "source": [
        "data['Country'].value_counts().sort_index()"
      ],
      "execution_count": null,
      "outputs": [
        {
          "output_type": "execute_result",
          "data": {
            "text/plain": [
              "Guinea                      259\n",
              "Italy                       141\n",
              "Liberia                     259\n",
              "Mali                        243\n",
              "Nigeria                     255\n",
              "Senegal                     254\n",
              "Sierra Leone                259\n",
              "Spain                       243\n",
              "United Kingdom              221\n",
              "United States of America    245\n",
              "Name: Country, dtype: int64"
            ]
          },
          "metadata": {},
          "execution_count": 10
        }
      ]
    },
    {
      "cell_type": "code",
      "metadata": {
        "colab": {
          "base_uri": "https://localhost:8080/"
        },
        "id": "HrjCREDOsC5R",
        "outputId": "474f8bab-b6ce-4781-b28b-4bbdee46a972"
      },
      "source": [
        "data['Date'].value_counts().sort_index(ascending=False)[:15]"
      ],
      "execution_count": null,
      "outputs": [
        {
          "output_type": "execute_result",
          "data": {
            "text/plain": [
              "31-12-2014     8\n",
              "31-10-2014     8\n",
              "31-08-2015    10\n",
              "31-07-2015    10\n",
              "30-12-2014     8\n",
              "30-10-2015    10\n",
              "30-09-2015    10\n",
              "30-07-2015    10\n",
              "30-06-2015    10\n",
              "30-04-2015     9\n",
              "30-01-2015     9\n",
              "29-12-2015    10\n",
              "29-12-2014     8\n",
              "29-10-2015    10\n",
              "29-10-2014     8\n",
              "Name: Date, dtype: int64"
            ]
          },
          "metadata": {},
          "execution_count": 11
        }
      ]
    },
    {
      "cell_type": "code",
      "metadata": {
        "colab": {
          "base_uri": "https://localhost:8080/",
          "height": 272
        },
        "id": "VFVlJ3_CR7Np",
        "outputId": "58a3092a-02d7-47e0-9525-b92b22f5cf0c"
      },
      "source": [
        "temp = data.groupby(['Country', 'Date', ])['Cumulative no. cases', 'Cumulative no. deaths']\n",
        "temp = temp.sum().diff().reset_index()\n",
        "\n",
        "mask = temp['Country'] != temp['Country'].shift(1)\n",
        "\n",
        "temp.loc[mask, 'Cumulative no. cases'] = np.nan\n",
        "temp.loc[mask, 'Cumulative no. deaths'] = np.nan\n",
        "\n",
        "# renaming columns\n",
        "temp.columns = ['Country', 'Date', 'New cases', 'New deaths']\n",
        "\n",
        "# merging new values\n",
        "data = pd.merge(data, temp, on=['Country', 'Date'])\n",
        "\n",
        "# filling na with 0\n",
        "data = data.fillna(0)\n",
        "\n",
        "# fixing data types\n",
        "cols = ['New cases', 'New deaths']\n",
        "data[cols] = data[cols].astype('int')\n",
        "\n",
        "data['New cases'] = data['New cases'].apply(lambda x: 0 if x<0 else x)\n",
        "\n",
        "data.head()"
      ],
      "execution_count": null,
      "outputs": [
        {
          "output_type": "stream",
          "name": "stderr",
          "text": [
            "/usr/local/lib/python3.7/dist-packages/ipykernel_launcher.py:1: FutureWarning:\n",
            "\n",
            "Indexing with multiple keys (implicitly converted to a tuple of keys) will be deprecated, use a list instead.\n",
            "\n"
          ]
        },
        {
          "output_type": "execute_result",
          "data": {
            "text/html": [
              "<div>\n",
              "<style scoped>\n",
              "    .dataframe tbody tr th:only-of-type {\n",
              "        vertical-align: middle;\n",
              "    }\n",
              "\n",
              "    .dataframe tbody tr th {\n",
              "        vertical-align: top;\n",
              "    }\n",
              "\n",
              "    .dataframe thead th {\n",
              "        text-align: right;\n",
              "    }\n",
              "</style>\n",
              "<table border=\"1\" class=\"dataframe\">\n",
              "  <thead>\n",
              "    <tr style=\"text-align: right;\">\n",
              "      <th></th>\n",
              "      <th>Date</th>\n",
              "      <th>Country</th>\n",
              "      <th>Cumulative no. cases</th>\n",
              "      <th>Cumulative no. deaths</th>\n",
              "      <th>CFR</th>\n",
              "      <th>New cases</th>\n",
              "      <th>New deaths</th>\n",
              "    </tr>\n",
              "  </thead>\n",
              "  <tbody>\n",
              "    <tr>\n",
              "      <th>0</th>\n",
              "      <td>01-05-2015</td>\n",
              "      <td>Guinea</td>\n",
              "      <td>3578</td>\n",
              "      <td>2383</td>\n",
              "      <td>66.60</td>\n",
              "      <td>0</td>\n",
              "      <td>0</td>\n",
              "    </tr>\n",
              "    <tr>\n",
              "      <th>1</th>\n",
              "      <td>01-05-2015</td>\n",
              "      <td>Liberia</td>\n",
              "      <td>10322</td>\n",
              "      <td>4608</td>\n",
              "      <td>44.64</td>\n",
              "      <td>0</td>\n",
              "      <td>0</td>\n",
              "    </tr>\n",
              "    <tr>\n",
              "      <th>2</th>\n",
              "      <td>01-05-2015</td>\n",
              "      <td>Mali</td>\n",
              "      <td>8</td>\n",
              "      <td>6</td>\n",
              "      <td>75.00</td>\n",
              "      <td>0</td>\n",
              "      <td>0</td>\n",
              "    </tr>\n",
              "    <tr>\n",
              "      <th>3</th>\n",
              "      <td>01-05-2015</td>\n",
              "      <td>Nigeria</td>\n",
              "      <td>20</td>\n",
              "      <td>8</td>\n",
              "      <td>40.00</td>\n",
              "      <td>0</td>\n",
              "      <td>0</td>\n",
              "    </tr>\n",
              "    <tr>\n",
              "      <th>4</th>\n",
              "      <td>01-05-2015</td>\n",
              "      <td>Senegal</td>\n",
              "      <td>1</td>\n",
              "      <td>0</td>\n",
              "      <td>0.00</td>\n",
              "      <td>0</td>\n",
              "      <td>0</td>\n",
              "    </tr>\n",
              "  </tbody>\n",
              "</table>\n",
              "</div>"
            ],
            "text/plain": [
              "         Date  Country  Cumulative no. cases  ...    CFR  New cases  New deaths\n",
              "0  01-05-2015   Guinea                  3578  ...  66.60          0           0\n",
              "1  01-05-2015  Liberia                 10322  ...  44.64          0           0\n",
              "2  01-05-2015     Mali                     8  ...  75.00          0           0\n",
              "3  01-05-2015  Nigeria                    20  ...  40.00          0           0\n",
              "4  01-05-2015  Senegal                     1  ...   0.00          0           0\n",
              "\n",
              "[5 rows x 7 columns]"
            ]
          },
          "metadata": {},
          "execution_count": 12
        }
      ]
    },
    {
      "cell_type": "code",
      "metadata": {
        "colab": {
          "base_uri": "https://localhost:8080/",
          "height": 297
        },
        "id": "3kosGxyjSlpa",
        "outputId": "0ecab5ab-14d6-4a84-b311-e8882a262ed2"
      },
      "source": [
        "latest = data[data['Date']==max(data['Date'])]\n",
        "latest = latest.sort_values('Cumulative no. cases', ascending=False)\n",
        "latest = latest.reset_index()\n",
        "latest"
      ],
      "execution_count": null,
      "outputs": [
        {
          "output_type": "execute_result",
          "data": {
            "text/html": [
              "<div>\n",
              "<style scoped>\n",
              "    .dataframe tbody tr th:only-of-type {\n",
              "        vertical-align: middle;\n",
              "    }\n",
              "\n",
              "    .dataframe tbody tr th {\n",
              "        vertical-align: top;\n",
              "    }\n",
              "\n",
              "    .dataframe thead th {\n",
              "        text-align: right;\n",
              "    }\n",
              "</style>\n",
              "<table border=\"1\" class=\"dataframe\">\n",
              "  <thead>\n",
              "    <tr style=\"text-align: right;\">\n",
              "      <th></th>\n",
              "      <th>index</th>\n",
              "      <th>Date</th>\n",
              "      <th>Country</th>\n",
              "      <th>Cumulative no. cases</th>\n",
              "      <th>Cumulative no. deaths</th>\n",
              "      <th>CFR</th>\n",
              "      <th>New cases</th>\n",
              "      <th>New deaths</th>\n",
              "    </tr>\n",
              "  </thead>\n",
              "  <tbody>\n",
              "    <tr>\n",
              "      <th>0</th>\n",
              "      <td>2376</td>\n",
              "      <td>31-12-2014</td>\n",
              "      <td>Sierra Leone</td>\n",
              "      <td>9446</td>\n",
              "      <td>2758</td>\n",
              "      <td>29.20</td>\n",
              "      <td>4108</td>\n",
              "      <td>1248</td>\n",
              "    </tr>\n",
              "    <tr>\n",
              "      <th>1</th>\n",
              "      <td>2372</td>\n",
              "      <td>31-12-2014</td>\n",
              "      <td>Liberia</td>\n",
              "      <td>8018</td>\n",
              "      <td>3423</td>\n",
              "      <td>42.69</td>\n",
              "      <td>1483</td>\n",
              "      <td>1010</td>\n",
              "    </tr>\n",
              "    <tr>\n",
              "      <th>2</th>\n",
              "      <td>2371</td>\n",
              "      <td>31-12-2014</td>\n",
              "      <td>Guinea</td>\n",
              "      <td>2707</td>\n",
              "      <td>1709</td>\n",
              "      <td>63.13</td>\n",
              "      <td>1040</td>\n",
              "      <td>691</td>\n",
              "    </tr>\n",
              "    <tr>\n",
              "      <th>3</th>\n",
              "      <td>2374</td>\n",
              "      <td>31-12-2014</td>\n",
              "      <td>Nigeria</td>\n",
              "      <td>20</td>\n",
              "      <td>8</td>\n",
              "      <td>40.00</td>\n",
              "      <td>0</td>\n",
              "      <td>0</td>\n",
              "    </tr>\n",
              "    <tr>\n",
              "      <th>4</th>\n",
              "      <td>2373</td>\n",
              "      <td>31-12-2014</td>\n",
              "      <td>Mali</td>\n",
              "      <td>8</td>\n",
              "      <td>6</td>\n",
              "      <td>75.00</td>\n",
              "      <td>7</td>\n",
              "      <td>5</td>\n",
              "    </tr>\n",
              "    <tr>\n",
              "      <th>5</th>\n",
              "      <td>2378</td>\n",
              "      <td>31-12-2014</td>\n",
              "      <td>United States of America</td>\n",
              "      <td>4</td>\n",
              "      <td>1</td>\n",
              "      <td>25.00</td>\n",
              "      <td>0</td>\n",
              "      <td>0</td>\n",
              "    </tr>\n",
              "    <tr>\n",
              "      <th>6</th>\n",
              "      <td>2375</td>\n",
              "      <td>31-12-2014</td>\n",
              "      <td>Senegal</td>\n",
              "      <td>1</td>\n",
              "      <td>0</td>\n",
              "      <td>0.00</td>\n",
              "      <td>0</td>\n",
              "      <td>0</td>\n",
              "    </tr>\n",
              "    <tr>\n",
              "      <th>7</th>\n",
              "      <td>2377</td>\n",
              "      <td>31-12-2014</td>\n",
              "      <td>Spain</td>\n",
              "      <td>1</td>\n",
              "      <td>0</td>\n",
              "      <td>0.00</td>\n",
              "      <td>0</td>\n",
              "      <td>0</td>\n",
              "    </tr>\n",
              "  </tbody>\n",
              "</table>\n",
              "</div>"
            ],
            "text/plain": [
              "   index        Date                   Country  ...    CFR  New cases  New deaths\n",
              "0   2376  31-12-2014              Sierra Leone  ...  29.20       4108        1248\n",
              "1   2372  31-12-2014                   Liberia  ...  42.69       1483        1010\n",
              "2   2371  31-12-2014                    Guinea  ...  63.13       1040         691\n",
              "3   2374  31-12-2014                   Nigeria  ...  40.00          0           0\n",
              "4   2373  31-12-2014                      Mali  ...  75.00          7           5\n",
              "5   2378  31-12-2014  United States of America  ...  25.00          0           0\n",
              "6   2375  31-12-2014                   Senegal  ...   0.00          0           0\n",
              "7   2377  31-12-2014                     Spain  ...   0.00          0           0\n",
              "\n",
              "[8 rows x 8 columns]"
            ]
          },
          "metadata": {},
          "execution_count": 13
        }
      ]
    },
    {
      "cell_type": "markdown",
      "metadata": {
        "id": "DfjQOMR3sy4G"
      },
      "source": [
        "# **Data Pre-Processing & Visualization**"
      ]
    },
    {
      "cell_type": "code",
      "metadata": {
        "colab": {
          "base_uri": "https://localhost:8080/",
          "height": 357
        },
        "id": "OTDYJRUxRlIt",
        "outputId": "bda10704-1b75-4e9a-fbb3-f8c0e0aa67c9"
      },
      "source": [
        "from sklearn import preprocessing\n",
        "\n",
        "df=pd.read_csv('/content/zikadata.csv')\n",
        "df.head()"
      ],
      "execution_count": null,
      "outputs": [
        {
          "output_type": "execute_result",
          "data": {
            "text/html": [
              "<div>\n",
              "<style scoped>\n",
              "    .dataframe tbody tr th:only-of-type {\n",
              "        vertical-align: middle;\n",
              "    }\n",
              "\n",
              "    .dataframe tbody tr th {\n",
              "        vertical-align: top;\n",
              "    }\n",
              "\n",
              "    .dataframe thead th {\n",
              "        text-align: right;\n",
              "    }\n",
              "</style>\n",
              "<table border=\"1\" class=\"dataframe\">\n",
              "  <thead>\n",
              "    <tr style=\"text-align: right;\">\n",
              "      <th></th>\n",
              "      <th>Country</th>\n",
              "      <th>Date</th>\n",
              "      <th>No. of suspected cases</th>\n",
              "      <th>No. of probable cases</th>\n",
              "      <th>No. of confirmed cases</th>\n",
              "      <th>No. of confirmed, probable and suspected cases</th>\n",
              "      <th>No. of suspected deaths</th>\n",
              "      <th>No. of probable deaths</th>\n",
              "      <th>No. of confirmed deaths</th>\n",
              "      <th>No. of confirmed, probable and suspected deaths</th>\n",
              "    </tr>\n",
              "  </thead>\n",
              "  <tbody>\n",
              "    <tr>\n",
              "      <th>0</th>\n",
              "      <td>Guinea</td>\n",
              "      <td>2014-08-29</td>\n",
              "      <td>25.0</td>\n",
              "      <td>141.0</td>\n",
              "      <td>482.0</td>\n",
              "      <td>648.0</td>\n",
              "      <td>2.0</td>\n",
              "      <td>141.0</td>\n",
              "      <td>287.0</td>\n",
              "      <td>430.0</td>\n",
              "    </tr>\n",
              "    <tr>\n",
              "      <th>1</th>\n",
              "      <td>Nigeria</td>\n",
              "      <td>2014-08-29</td>\n",
              "      <td>3.0</td>\n",
              "      <td>1.0</td>\n",
              "      <td>15.0</td>\n",
              "      <td>19.0</td>\n",
              "      <td>0.0</td>\n",
              "      <td>1.0</td>\n",
              "      <td>6.0</td>\n",
              "      <td>7.0</td>\n",
              "    </tr>\n",
              "    <tr>\n",
              "      <th>2</th>\n",
              "      <td>Sierra Leone</td>\n",
              "      <td>2014-08-29</td>\n",
              "      <td>54.0</td>\n",
              "      <td>37.0</td>\n",
              "      <td>935.0</td>\n",
              "      <td>1026.0</td>\n",
              "      <td>8.0</td>\n",
              "      <td>34.0</td>\n",
              "      <td>380.0</td>\n",
              "      <td>422.0</td>\n",
              "    </tr>\n",
              "    <tr>\n",
              "      <th>3</th>\n",
              "      <td>Liberia</td>\n",
              "      <td>2014-08-29</td>\n",
              "      <td>382.0</td>\n",
              "      <td>674.0</td>\n",
              "      <td>322.0</td>\n",
              "      <td>1378.0</td>\n",
              "      <td>168.0</td>\n",
              "      <td>301.0</td>\n",
              "      <td>225.0</td>\n",
              "      <td>694.0</td>\n",
              "    </tr>\n",
              "    <tr>\n",
              "      <th>4</th>\n",
              "      <td>Sierra Leone</td>\n",
              "      <td>2014-09-05</td>\n",
              "      <td>78.0</td>\n",
              "      <td>37.0</td>\n",
              "      <td>1146.0</td>\n",
              "      <td>1261.0</td>\n",
              "      <td>11.0</td>\n",
              "      <td>37.0</td>\n",
              "      <td>443.0</td>\n",
              "      <td>491.0</td>\n",
              "    </tr>\n",
              "  </tbody>\n",
              "</table>\n",
              "</div>"
            ],
            "text/plain": [
              "        Country  ... No. of confirmed, probable and suspected deaths\n",
              "0        Guinea  ...                                           430.0\n",
              "1       Nigeria  ...                                             7.0\n",
              "2  Sierra Leone  ...                                           422.0\n",
              "3       Liberia  ...                                           694.0\n",
              "4  Sierra Leone  ...                                           491.0\n",
              "\n",
              "[5 rows x 10 columns]"
            ]
          },
          "metadata": {},
          "execution_count": 14
        }
      ]
    },
    {
      "cell_type": "code",
      "metadata": {
        "id": "YobLiqpHXnue"
      },
      "source": [
        "from datetime import datetime\n",
        "import matplotlib.ticker as ticker"
      ],
      "execution_count": null,
      "outputs": []
    },
    {
      "cell_type": "code",
      "metadata": {
        "colab": {
          "base_uri": "https://localhost:8080/",
          "height": 378
        },
        "id": "SrLYt459Xj9k",
        "outputId": "944fc530-f991-4f18-ea13-403e749f473b"
      },
      "source": [
        "#top 4 countries with most zika cases\n",
        "dftemp = df.sort_values(by=\"No. of confirmed, probable and suspected cases\", ascending=False)\n",
        "countries = dftemp[\"Country\"].unique()[0:4]\n",
        "cases = []\n",
        "for c in countries:\n",
        "    cases.append(np.sort(df.loc[df['Country'] == c][\"No. of confirmed, probable and suspected cases\"].unique())[-1])\n",
        "f , ax  = plt.subplots(1,2,figsize=(18,6))\n",
        "ax[0].bar(np.arange(0,4),cases,width=0.3, label = 'Cases')\n",
        "ax[0].set_title('Top 4 Countries with zika cases-deathality',fontsize=20, fontweight='bold')\n",
        "ax[0].set_xlabel('Country',fontsize=12)\n",
        "ax[0].set_ylabel('Value',fontsize=12)\n",
        "counter = 0\n",
        "for i in cases:\n",
        "    ax[0].text(counter-0.15, i+200, int(i), color='black', fontsize=10, fontweight='bold')\n",
        "    counter +=1 \n",
        "ax[0].set_ylim([0,cases[0]+1000])\n",
        "#top 4 countries in deathality from zika\n",
        "dftemp = df.sort_values(by = \"No. of confirmed, probable and suspected deaths\", ascending = False)\n",
        "countriesD = dftemp['Country'].unique()[0:4]\n",
        "deaths = []\n",
        "for c in countries:\n",
        "    deaths.append(np.sort(df.loc[dftemp['Country'] == c][\"No. of confirmed, probable and suspected deaths\"].unique())[-1])\n",
        "deaths\n",
        "ax[0].bar(np.arange(0,4)+0.3, deaths, width = 0.3, color = 'red', label = 'Deaths')\n",
        "ax[0].set_xticks(np.arange(0,4)+0.3/2)\n",
        "ax[0].set_xticklabels(countries)\n",
        "ax[0].tick_params(axis='both',labelsize=12)\n",
        "counter = 0\n",
        "for i in deaths:\n",
        "    ax[0].text(counter-0.12+0.3, i+200, int(i), color='black', fontsize=10, fontweight='bold')\n",
        "    counter +=1 \n",
        "ax[0].legend(fontsize=15)\n",
        "totalCases = 0\n",
        "totalDeaths = 0\n",
        "for i in np.arange(0,4):\n",
        "    totalCases += cases[i]\n",
        "    totalDeaths += deaths[i]\n",
        "ax[1].pie([totalCases-totalDeaths,totalDeaths],radius = 1,labels=['Cases with No Death','Deaths'],startangle=90,colors = ['green','red'], textprops={'fontsize': 15},autopct='%1.1f%%')\n",
        "ax[1].set_title('Deathality Analogy',fontsize=20,fontweight='bold')\n",
        "plt.show()"
      ],
      "execution_count": null,
      "outputs": [
        {
          "output_type": "display_data",
          "data": {
            "image/png": "[encoded data removed]",
            "text/plain": [
              "<Figure size 1296x432 with 2 Axes>"
            ]
          },
          "metadata": {
            "needs_background": "light"
          }
        }
      ]
    },
    {
      "cell_type": "code",
      "metadata": {
        "colab": {
          "base_uri": "https://localhost:8080/",
          "height": 311
        },
        "id": "PdjoXRgXXuxc",
        "outputId": "0b34f4a0-7504-44da-d3a7-82893a9a9dba"
      },
      "source": [
        "#ploting the virus spreading in time\n",
        "#we will plot the outbreak timeline in the 3 countries with the most of the cases\n",
        "#plotting Sierra Leone\n",
        "f, ax = plt.subplots(1,3,figsize=(20,5))\n",
        "temp = df.loc[df['Country'] == 'Sierra Leone']['Date'].tolist()\n",
        "casesSierra = df.loc[df['Country'] == 'Sierra Leone'].sort_values(by='Date')['No. of confirmed, probable and suspected cases'].tolist()\n",
        "DeathsSierra = df.loc[df['Country'] == 'Sierra Leone'].sort_values(by='Date')['No. of confirmed, probable and suspected deaths'].tolist()\n",
        "timeSierra = []\n",
        "\n",
        "for i in temp:\n",
        "    timeSierra.append(datetime.strptime(i,'%Y-%m-%d'))\n",
        "ax[0].plot(timeSierra, casesSierra,label='Cases')\n",
        "ax[0].plot(timeSierra, DeathsSierra,color='red',label='Deaths')\n",
        "ax[0].set_title('Sierra Leone',fontsize=20,fontweight='bold')\n",
        "ax[0].tick_params(axis='both', labelsize=15)\n",
        "ax[0].tick_params(axis='x',rotation=30)\n",
        "ax[0].xaxis.set_major_locator(ticker.MaxNLocator(8))\n",
        "ax[0].xaxis.set_minor_locator(ticker.MaxNLocator(16))\n",
        "ax[0].legend(fontsize='15')\n",
        "ax[0].set_ylim([0,15000])\n",
        "\n",
        "#plotting Liberia\n",
        "temp = df.loc[df['Country'] == 'Liberia']['Date'].tolist()\n",
        "casesLiberia = df.loc[df['Country'] == 'Liberia'].sort_values(by='Date')['No. of confirmed, probable and suspected cases'].tolist()\n",
        "DeathsLiberia = df.loc[df['Country'] == 'Liberia'].sort_values(by='Date')['No. of confirmed, probable and suspected deaths'].tolist()\n",
        "timeLiberia = []\n",
        "for i in temp:\n",
        "    timeLiberia.append(datetime.strptime(i,'%Y-%m-%d'))\n",
        "    \n",
        "#filtering the data\n",
        "min = casesLiberia[0]\n",
        "for i in range(1,len(casesLiberia)):\n",
        "    if (casesLiberia[i] < min):\n",
        "        casesLiberia[i] = -1\n",
        "        DeathsLiberia[i] = -1\n",
        "        timeLiberia[i] = ''\n",
        "    else:\n",
        "        min = casesLiberia[1]\n",
        "casesLiberia = list(filter(lambda a: a!=-1, casesLiberia))\n",
        "DeathsLiberia = list(filter(lambda a: a!=-1, DeathsLiberia))\n",
        "timeLiberia = list(filter(lambda a: a!='', timeLiberia))\n",
        "\n",
        "ax[1].plot(timeLiberia, casesLiberia,label='Cases')\n",
        "ax[1].plot(timeLiberia, DeathsLiberia,color='red',label='Deaths')\n",
        "ax[1].set_title('Liberia',fontsize=20,fontweight='bold')\n",
        "ax[1].tick_params(axis='both', labelsize=15)\n",
        "ax[1].tick_params(axis='x',rotation=30)\n",
        "ax[1].xaxis.set_major_locator(ticker.MaxNLocator(8))\n",
        "ax[1].xaxis.set_minor_locator(ticker.MaxNLocator(16))\n",
        "ax[1].legend(fontsize='15')\n",
        "ax[1].set_ylim([0,15000])\n",
        "\n",
        "#plotting Guinea\n",
        "\n",
        "temp = df.loc[df['Country'] == 'Guinea']['Date'].tolist()\n",
        "casesGuinea = df.loc[df['Country'] == 'Guinea'].sort_values(by='Date')['No. of confirmed, probable and suspected cases'].tolist()\n",
        "DeathsGuinea = df.loc[df['Country'] == 'Guinea'].sort_values(by='Date')['No. of confirmed, probable and suspected deaths'].tolist()\n",
        "timeGuinea = []\n",
        "for i in temp:\n",
        "    timeGuinea.append(datetime.strptime(i,'%Y-%m-%d'))\n",
        "\n",
        "ax[2].plot(timeGuinea, casesGuinea,label='Cases')\n",
        "ax[2].plot(timeGuinea, DeathsGuinea,color='red',label='Deaths')\n",
        "ax[2].set_title('Guinea',fontsize=20,fontweight='bold')\n",
        "ax[2].tick_params(axis='both', labelsize=15)\n",
        "ax[2].tick_params(axis='x',rotation=30)\n",
        "ax[2].xaxis.set_major_locator(ticker.MaxNLocator(8))\n",
        "ax[2].xaxis.set_minor_locator(ticker.MaxNLocator(16))\n",
        "ax[2].legend(fontsize='15')\n",
        "ax[2].set_ylim([0,15000])\n",
        "f.show()"
      ],
      "execution_count": null,
      "outputs": [
        {
          "output_type": "display_data",
          "data": {
            "image/png": "[encoded data removed]",
            "text/plain": [
              "<Figure size 1440x360 with 3 Axes>"
            ]
          },
          "metadata": {
            "needs_background": "light"
          }
        }
      ]
    },
    {
      "cell_type": "code",
      "metadata": {
        "colab": {
          "base_uri": "https://localhost:8080/",
          "height": 358
        },
        "id": "76feue6UXuuY",
        "outputId": "7e1993cb-ed5c-47e3-9f0b-1ca8b8c26b49"
      },
      "source": [
        "#finding the cases per day...\n",
        "countries = ['Sierra Leone', 'Liberia', 'Guinea']\n",
        "f, ax = plt.subplots(1,3,figsize=(20,6))\n",
        "valC = {}\n",
        "valD = {}\n",
        "dates = {}\n",
        "for i in countries:\n",
        "    valC[i] = df.loc[df['Country'] == i].sort_values(by='Date')['No. of confirmed, probable and suspected cases'].tolist()\n",
        "    dates[i] = df.loc[df['Country'] == i].sort_values(by='Date')['Date'].tolist()\n",
        "    valD[i] = df.loc[df['Country'] == i].sort_values(by='Date')['No. of confirmed, probable and suspected deaths'].tolist()\n",
        "    for j in range(1,len(valC[i])):\n",
        "        if (valC[i][j] < valC[i][j-1]) | (valD[i][j] < valD[i][j-1]):\n",
        "            valC[i][j] = -1\n",
        "            valD[i][j] = -1\n",
        "            dates[i][j] = ''\n",
        "    valC[i] = list(filter(lambda a: a!=-1, valC[i]))\n",
        "    valD[i] = list(filter(lambda a: a!=-1, valD[i]))\n",
        "    dates[i] = list(filter(lambda a: a!='', dates[i]))\n",
        "    tempC = [valC[i][0]]\n",
        "    tempD = [valD[i][0]]\n",
        "    for j in np.arange(1,len(valD[i])):\n",
        "        tC = valC[i][j] - valC[i][j-1]\n",
        "        tD = valD[i][j] - valD[i][j-1]\n",
        "        if(tC < 0) | (tD < 0) | (tC > 5000) | (tD > 5000):\n",
        "            tC = 0\n",
        "            tD = 0 \n",
        "        tempC.append(tC)\n",
        "        tempD.append(tD)\n",
        "    valC[i] = tempC\n",
        "    valD[i] = tempD\n",
        "    \n",
        "#plot creation\n",
        "for i in np.arange(3):\n",
        "    ax[i].set_title(countries[i],fontsize=20,fontweight='bold')\n",
        "    ax[i].plot(dates[countries[i]],valC[countries[i]],label = 'New Cases')\n",
        "    ax[i].plot(dates[countries[i]],valD[countries[i]],label = 'Deaths')\n",
        "    ax[i].xaxis.set_major_locator(ticker.MaxNLocator(7))\n",
        "    ax[i].tick_params(axis='x',rotation=30, labelsize=15)\n",
        "    ax[i].tick_params(axis='y', labelsize=15)\n",
        "    ax[i].legend(fontsize=15)\n",
        "f.show()"
      ],
      "execution_count": null,
      "outputs": [
        {
          "output_type": "display_data",
          "data": {
            "image/png": "[encoded data removed]",
            "text/plain": [
              "<Figure size 1440x432 with 3 Axes>"
            ]
          },
          "metadata": {
            "needs_background": "light"
          }
        }
      ]
    },
    {
      "cell_type": "markdown",
      "metadata": {
        "id": "wHIUfvskRwYy"
      },
      "source": [
        "**Standardization**"
      ]
    },
    {
      "cell_type": "code",
      "metadata": {
        "colab": {
          "base_uri": "https://localhost:8080/",
          "height": 470
        },
        "id": "v4gpwx9jRte0",
        "outputId": "1a867082-9d14-4711-ca84-ccbd317529e0"
      },
      "source": [
        "from sklearn.preprocessing import StandardScaler,MinMaxScaler \n",
        "\n",
        "numeric_columns = [c for c in df.columns if df[c].dtype != np.dtype('O')]\n",
        "temp_data = df[numeric_columns]\n",
        "standard_scaler = StandardScaler()\n",
        "standardized_data = standard_scaler.fit_transform(temp_data)\n",
        "pd.DataFrame(standardized_data , columns = temp_data.columns)"
      ],
      "execution_count": null,
      "outputs": [
        {
          "output_type": "execute_result",
          "data": {
            "text/html": [
              "<div>\n",
              "<style scoped>\n",
              "    .dataframe tbody tr th:only-of-type {\n",
              "        vertical-align: middle;\n",
              "    }\n",
              "\n",
              "    .dataframe tbody tr th {\n",
              "        vertical-align: top;\n",
              "    }\n",
              "\n",
              "    .dataframe thead th {\n",
              "        text-align: right;\n",
              "    }\n",
              "</style>\n",
              "<table border=\"1\" class=\"dataframe\">\n",
              "  <thead>\n",
              "    <tr style=\"text-align: right;\">\n",
              "      <th></th>\n",
              "      <th>No. of suspected cases</th>\n",
              "      <th>No. of probable cases</th>\n",
              "      <th>No. of confirmed cases</th>\n",
              "      <th>No. of confirmed, probable and suspected cases</th>\n",
              "      <th>No. of suspected deaths</th>\n",
              "      <th>No. of probable deaths</th>\n",
              "      <th>No. of confirmed deaths</th>\n",
              "      <th>No. of confirmed, probable and suspected deaths</th>\n",
              "    </tr>\n",
              "  </thead>\n",
              "  <tbody>\n",
              "    <tr>\n",
              "      <th>0</th>\n",
              "      <td>-0.474121</td>\n",
              "      <td>-0.218633</td>\n",
              "      <td>-0.370915</td>\n",
              "      <td>-0.430543</td>\n",
              "      <td>-0.422474</td>\n",
              "      <td>0.225973</td>\n",
              "      <td>-0.393297</td>\n",
              "      <td>-0.361380</td>\n",
              "    </tr>\n",
              "    <tr>\n",
              "      <th>1</th>\n",
              "      <td>-0.486154</td>\n",
              "      <td>-0.468023</td>\n",
              "      <td>-0.552367</td>\n",
              "      <td>-0.572650</td>\n",
              "      <td>-0.449820</td>\n",
              "      <td>-0.641613</td>\n",
              "      <td>-0.616715</td>\n",
              "      <td>-0.616856</td>\n",
              "    </tr>\n",
              "    <tr>\n",
              "      <th>2</th>\n",
              "      <td>-0.458259</td>\n",
              "      <td>-0.403894</td>\n",
              "      <td>-0.194902</td>\n",
              "      <td>-0.345143</td>\n",
              "      <td>-0.340438</td>\n",
              "      <td>-0.437111</td>\n",
              "      <td>-0.319354</td>\n",
              "      <td>-0.366211</td>\n",
              "    </tr>\n",
              "    <tr>\n",
              "      <th>3</th>\n",
              "      <td>-0.278859</td>\n",
              "      <td>0.730832</td>\n",
              "      <td>-0.433082</td>\n",
              "      <td>-0.265617</td>\n",
              "      <td>1.847196</td>\n",
              "      <td>1.217499</td>\n",
              "      <td>-0.442592</td>\n",
              "      <td>-0.201934</td>\n",
              "    </tr>\n",
              "    <tr>\n",
              "      <th>4</th>\n",
              "      <td>-0.445133</td>\n",
              "      <td>-0.403894</td>\n",
              "      <td>-0.112918</td>\n",
              "      <td>-0.292050</td>\n",
              "      <td>-0.299420</td>\n",
              "      <td>-0.418520</td>\n",
              "      <td>-0.269264</td>\n",
              "      <td>-0.324538</td>\n",
              "    </tr>\n",
              "    <tr>\n",
              "      <th>...</th>\n",
              "      <td>...</td>\n",
              "      <td>...</td>\n",
              "      <td>...</td>\n",
              "      <td>...</td>\n",
              "      <td>...</td>\n",
              "      <td>...</td>\n",
              "      <td>...</td>\n",
              "      <td>...</td>\n",
              "    </tr>\n",
              "    <tr>\n",
              "      <th>2480</th>\n",
              "      <td>2.594829</td>\n",
              "      <td>2.877372</td>\n",
              "      <td>0.666121</td>\n",
              "      <td>1.832786</td>\n",
              "      <td>NaN</td>\n",
              "      <td>NaN</td>\n",
              "      <td>NaN</td>\n",
              "      <td>2.281561</td>\n",
              "    </tr>\n",
              "    <tr>\n",
              "      <th>2481</th>\n",
              "      <td>-0.487795</td>\n",
              "      <td>-0.469805</td>\n",
              "      <td>-0.557806</td>\n",
              "      <td>-0.576717</td>\n",
              "      <td>NaN</td>\n",
              "      <td>NaN</td>\n",
              "      <td>NaN</td>\n",
              "      <td>-0.621084</td>\n",
              "    </tr>\n",
              "    <tr>\n",
              "      <th>2482</th>\n",
              "      <td>-0.487795</td>\n",
              "      <td>-0.464461</td>\n",
              "      <td>-0.557418</td>\n",
              "      <td>-0.575813</td>\n",
              "      <td>NaN</td>\n",
              "      <td>-0.629219</td>\n",
              "      <td>-0.620691</td>\n",
              "      <td>-0.618668</td>\n",
              "    </tr>\n",
              "    <tr>\n",
              "      <th>2483</th>\n",
              "      <td>-0.487795</td>\n",
              "      <td>-0.468023</td>\n",
              "      <td>-0.550812</td>\n",
              "      <td>-0.572424</td>\n",
              "      <td>-0.449820</td>\n",
              "      <td>-0.641613</td>\n",
              "      <td>-0.615920</td>\n",
              "      <td>-0.616252</td>\n",
              "    </tr>\n",
              "    <tr>\n",
              "      <th>2484</th>\n",
              "      <td>-0.487795</td>\n",
              "      <td>-0.469805</td>\n",
              "      <td>-0.556641</td>\n",
              "      <td>-0.576039</td>\n",
              "      <td>-0.449820</td>\n",
              "      <td>-0.647810</td>\n",
              "      <td>-0.620691</td>\n",
              "      <td>-0.620480</td>\n",
              "    </tr>\n",
              "  </tbody>\n",
              "</table>\n",
              "<p>2485 rows × 8 columns</p>\n",
              "</div>"
            ],
            "text/plain": [
              "      No. of suspected cases  ...  No. of confirmed, probable and suspected deaths\n",
              "0                  -0.474121  ...                                        -0.361380\n",
              "1                  -0.486154  ...                                        -0.616856\n",
              "2                  -0.458259  ...                                        -0.366211\n",
              "3                  -0.278859  ...                                        -0.201934\n",
              "4                  -0.445133  ...                                        -0.324538\n",
              "...                      ...  ...                                              ...\n",
              "2480                2.594829  ...                                         2.281561\n",
              "2481               -0.487795  ...                                        -0.621084\n",
              "2482               -0.487795  ...                                        -0.618668\n",
              "2483               -0.487795  ...                                        -0.616252\n",
              "2484               -0.487795  ...                                        -0.620480\n",
              "\n",
              "[2485 rows x 8 columns]"
            ]
          },
          "metadata": {},
          "execution_count": 19
        }
      ]
    },
    {
      "cell_type": "markdown",
      "metadata": {
        "id": "9abbpz6gR6E9"
      },
      "source": [
        "**Normalization**"
      ]
    },
    {
      "cell_type": "code",
      "metadata": {
        "colab": {
          "base_uri": "https://localhost:8080/",
          "height": 453
        },
        "id": "gjQ2lDQoR5mb",
        "outputId": "1b26b123-3d5a-4cd7-ce44-7a4061aab845"
      },
      "source": [
        "normalizer = MinMaxScaler()\n",
        "normalized_data = normalizer.fit_transform(temp_data)\n",
        "pd.DataFrame(normalized_data , columns = temp_data.columns)"
      ],
      "execution_count": null,
      "outputs": [
        {
          "output_type": "execute_result",
          "data": {
            "text/html": [
              "<div>\n",
              "<style scoped>\n",
              "    .dataframe tbody tr th:only-of-type {\n",
              "        vertical-align: middle;\n",
              "    }\n",
              "\n",
              "    .dataframe tbody tr th {\n",
              "        vertical-align: top;\n",
              "    }\n",
              "\n",
              "    .dataframe thead th {\n",
              "        text-align: right;\n",
              "    }\n",
              "</style>\n",
              "<table border=\"1\" class=\"dataframe\">\n",
              "  <thead>\n",
              "    <tr style=\"text-align: right;\">\n",
              "      <th></th>\n",
              "      <th>No. of suspected cases</th>\n",
              "      <th>No. of probable cases</th>\n",
              "      <th>No. of confirmed cases</th>\n",
              "      <th>No. of confirmed, probable and suspected cases</th>\n",
              "      <th>No. of suspected deaths</th>\n",
              "      <th>No. of probable deaths</th>\n",
              "      <th>No. of confirmed deaths</th>\n",
              "      <th>No. of confirmed, probable and suspected deaths</th>\n",
              "    </tr>\n",
              "  </thead>\n",
              "  <tbody>\n",
              "    <tr>\n",
              "      <th>0</th>\n",
              "      <td>0.004436</td>\n",
              "      <td>0.066952</td>\n",
              "      <td>0.055268</td>\n",
              "      <td>0.045886</td>\n",
              "      <td>0.003026</td>\n",
              "      <td>0.175592</td>\n",
              "      <td>0.074391</td>\n",
              "      <td>0.089471</td>\n",
              "    </tr>\n",
              "    <tr>\n",
              "      <th>1</th>\n",
              "      <td>0.000532</td>\n",
              "      <td>0.000475</td>\n",
              "      <td>0.001609</td>\n",
              "      <td>0.001345</td>\n",
              "      <td>0.000000</td>\n",
              "      <td>0.001245</td>\n",
              "      <td>0.001555</td>\n",
              "      <td>0.001457</td>\n",
              "    </tr>\n",
              "    <tr>\n",
              "      <th>2</th>\n",
              "      <td>0.009581</td>\n",
              "      <td>0.017569</td>\n",
              "      <td>0.107319</td>\n",
              "      <td>0.072653</td>\n",
              "      <td>0.012103</td>\n",
              "      <td>0.042341</td>\n",
              "      <td>0.098497</td>\n",
              "      <td>0.087807</td>\n",
              "    </tr>\n",
              "    <tr>\n",
              "      <th>3</th>\n",
              "      <td>0.067779</td>\n",
              "      <td>0.320038</td>\n",
              "      <td>0.036884</td>\n",
              "      <td>0.097578</td>\n",
              "      <td>0.254160</td>\n",
              "      <td>0.374844</td>\n",
              "      <td>0.058320</td>\n",
              "      <td>0.144403</td>\n",
              "    </tr>\n",
              "    <tr>\n",
              "      <th>4</th>\n",
              "      <td>0.013840</td>\n",
              "      <td>0.017569</td>\n",
              "      <td>0.131564</td>\n",
              "      <td>0.089293</td>\n",
              "      <td>0.016641</td>\n",
              "      <td>0.046077</td>\n",
              "      <td>0.114826</td>\n",
              "      <td>0.102164</td>\n",
              "    </tr>\n",
              "    <tr>\n",
              "      <th>...</th>\n",
              "      <td>...</td>\n",
              "      <td>...</td>\n",
              "      <td>...</td>\n",
              "      <td>...</td>\n",
              "      <td>...</td>\n",
              "      <td>...</td>\n",
              "      <td>...</td>\n",
              "      <td>...</td>\n",
              "    </tr>\n",
              "    <tr>\n",
              "      <th>2480</th>\n",
              "      <td>1.000000</td>\n",
              "      <td>0.892213</td>\n",
              "      <td>0.361944</td>\n",
              "      <td>0.755275</td>\n",
              "      <td>NaN</td>\n",
              "      <td>NaN</td>\n",
              "      <td>NaN</td>\n",
              "      <td>1.000000</td>\n",
              "    </tr>\n",
              "    <tr>\n",
              "      <th>2481</th>\n",
              "      <td>0.000000</td>\n",
              "      <td>0.000000</td>\n",
              "      <td>0.000000</td>\n",
              "      <td>0.000071</td>\n",
              "      <td>NaN</td>\n",
              "      <td>NaN</td>\n",
              "      <td>NaN</td>\n",
              "      <td>0.000000</td>\n",
              "    </tr>\n",
              "    <tr>\n",
              "      <th>2482</th>\n",
              "      <td>0.000000</td>\n",
              "      <td>0.001425</td>\n",
              "      <td>0.000115</td>\n",
              "      <td>0.000354</td>\n",
              "      <td>NaN</td>\n",
              "      <td>0.003736</td>\n",
              "      <td>0.000259</td>\n",
              "      <td>0.000832</td>\n",
              "    </tr>\n",
              "    <tr>\n",
              "      <th>2483</th>\n",
              "      <td>0.000000</td>\n",
              "      <td>0.000475</td>\n",
              "      <td>0.002068</td>\n",
              "      <td>0.001416</td>\n",
              "      <td>0.000000</td>\n",
              "      <td>0.001245</td>\n",
              "      <td>0.001814</td>\n",
              "      <td>0.001665</td>\n",
              "    </tr>\n",
              "    <tr>\n",
              "      <th>2484</th>\n",
              "      <td>0.000000</td>\n",
              "      <td>0.000000</td>\n",
              "      <td>0.000345</td>\n",
              "      <td>0.000283</td>\n",
              "      <td>0.000000</td>\n",
              "      <td>0.000000</td>\n",
              "      <td>0.000259</td>\n",
              "      <td>0.000208</td>\n",
              "    </tr>\n",
              "  </tbody>\n",
              "</table>\n",
              "<p>2485 rows × 8 columns</p>\n",
              "</div>"
            ],
            "text/plain": [
              "      No. of suspected cases  ...  No. of confirmed, probable and suspected deaths\n",
              "0                   0.004436  ...                                         0.089471\n",
              "1                   0.000532  ...                                         0.001457\n",
              "2                   0.009581  ...                                         0.087807\n",
              "3                   0.067779  ...                                         0.144403\n",
              "4                   0.013840  ...                                         0.102164\n",
              "...                      ...  ...                                              ...\n",
              "2480                1.000000  ...                                         1.000000\n",
              "2481                0.000000  ...                                         0.000000\n",
              "2482                0.000000  ...                                         0.000832\n",
              "2483                0.000000  ...                                         0.001665\n",
              "2484                0.000000  ...                                         0.000208\n",
              "\n",
              "[2485 rows x 8 columns]"
            ]
          },
          "metadata": {},
          "execution_count": 20
        }
      ]
    },
    {
      "cell_type": "code",
      "metadata": {
        "colab": {
          "base_uri": "https://localhost:8080/",
          "height": 238
        },
        "id": "0rPnJA_lSBZv",
        "outputId": "7b47b2ab-588a-49e5-c1e7-cdbba7ad33aa"
      },
      "source": [
        "from sklearn.preprocessing import KBinsDiscretizer\n",
        "temp_data.head()\n"
      ],
      "execution_count": null,
      "outputs": [
        {
          "output_type": "execute_result",
          "data": {
            "text/html": [
              "<div>\n",
              "<style scoped>\n",
              "    .dataframe tbody tr th:only-of-type {\n",
              "        vertical-align: middle;\n",
              "    }\n",
              "\n",
              "    .dataframe tbody tr th {\n",
              "        vertical-align: top;\n",
              "    }\n",
              "\n",
              "    .dataframe thead th {\n",
              "        text-align: right;\n",
              "    }\n",
              "</style>\n",
              "<table border=\"1\" class=\"dataframe\">\n",
              "  <thead>\n",
              "    <tr style=\"text-align: right;\">\n",
              "      <th></th>\n",
              "      <th>No. of suspected cases</th>\n",
              "      <th>No. of probable cases</th>\n",
              "      <th>No. of confirmed cases</th>\n",
              "      <th>No. of confirmed, probable and suspected cases</th>\n",
              "      <th>No. of suspected deaths</th>\n",
              "      <th>No. of probable deaths</th>\n",
              "      <th>No. of confirmed deaths</th>\n",
              "      <th>No. of confirmed, probable and suspected deaths</th>\n",
              "    </tr>\n",
              "  </thead>\n",
              "  <tbody>\n",
              "    <tr>\n",
              "      <th>0</th>\n",
              "      <td>25.0</td>\n",
              "      <td>141.0</td>\n",
              "      <td>482.0</td>\n",
              "      <td>648.0</td>\n",
              "      <td>2.0</td>\n",
              "      <td>141.0</td>\n",
              "      <td>287.0</td>\n",
              "      <td>430.0</td>\n",
              "    </tr>\n",
              "    <tr>\n",
              "      <th>1</th>\n",
              "      <td>3.0</td>\n",
              "      <td>1.0</td>\n",
              "      <td>15.0</td>\n",
              "      <td>19.0</td>\n",
              "      <td>0.0</td>\n",
              "      <td>1.0</td>\n",
              "      <td>6.0</td>\n",
              "      <td>7.0</td>\n",
              "    </tr>\n",
              "    <tr>\n",
              "      <th>2</th>\n",
              "      <td>54.0</td>\n",
              "      <td>37.0</td>\n",
              "      <td>935.0</td>\n",
              "      <td>1026.0</td>\n",
              "      <td>8.0</td>\n",
              "      <td>34.0</td>\n",
              "      <td>380.0</td>\n",
              "      <td>422.0</td>\n",
              "    </tr>\n",
              "    <tr>\n",
              "      <th>3</th>\n",
              "      <td>382.0</td>\n",
              "      <td>674.0</td>\n",
              "      <td>322.0</td>\n",
              "      <td>1378.0</td>\n",
              "      <td>168.0</td>\n",
              "      <td>301.0</td>\n",
              "      <td>225.0</td>\n",
              "      <td>694.0</td>\n",
              "    </tr>\n",
              "    <tr>\n",
              "      <th>4</th>\n",
              "      <td>78.0</td>\n",
              "      <td>37.0</td>\n",
              "      <td>1146.0</td>\n",
              "      <td>1261.0</td>\n",
              "      <td>11.0</td>\n",
              "      <td>37.0</td>\n",
              "      <td>443.0</td>\n",
              "      <td>491.0</td>\n",
              "    </tr>\n",
              "  </tbody>\n",
              "</table>\n",
              "</div>"
            ],
            "text/plain": [
              "   No. of suspected cases  ...  No. of confirmed, probable and suspected deaths\n",
              "0                    25.0  ...                                            430.0\n",
              "1                     3.0  ...                                              7.0\n",
              "2                    54.0  ...                                            422.0\n",
              "3                   382.0  ...                                            694.0\n",
              "4                    78.0  ...                                            491.0\n",
              "\n",
              "[5 rows x 8 columns]"
            ]
          },
          "metadata": {},
          "execution_count": 21
        }
      ]
    },
    {
      "cell_type": "code",
      "metadata": {
        "colab": {
          "base_uri": "https://localhost:8080/"
        },
        "id": "aEwX-3xXSGSQ",
        "outputId": "1a8355cd-47f2-43e1-b059-a0a620cd03f3"
      },
      "source": [
        "from sklearn.preprocessing import LabelEncoder , OneHotEncoder\n",
        "\n",
        "le = LabelEncoder()\n",
        "df['Country'] = le.fit_transform(df['Country'])\n",
        "df['Country'].value_counts()\n",
        "\n",
        "le.classes_"
      ],
      "execution_count": null,
      "outputs": [
        {
          "output_type": "execute_result",
          "data": {
            "text/plain": [
              "array(['Guinea', 'Italy', 'Liberia', 'Mali', 'Nigeria', 'Senegal',\n",
              "       'Sierra Leone', 'Spain', 'United Kingdom',\n",
              "       'United States of America'], dtype=object)"
            ]
          },
          "metadata": {},
          "execution_count": 22
        }
      ]
    },
    {
      "cell_type": "code",
      "metadata": {
        "colab": {
          "base_uri": "https://localhost:8080/"
        },
        "id": "5n_T6zvMSISf",
        "outputId": "591265f7-38bf-4fd8-94ec-5ca56b84e91c"
      },
      "source": [
        "one_hot = OneHotEncoder()\n",
        "transformed_data = one_hot.fit_transform(df['Date'].values.reshape(-1,1)).toarray()\n",
        "one_hot.categories_"
      ],
      "execution_count": null,
      "outputs": [
        {
          "output_type": "execute_result",
          "data": {
            "text/plain": [
              "[array(['2014-08-29', '2014-09-05', '2014-09-08', '2014-09-12',\n",
              "        '2014-09-16', '2014-09-18', '2014-09-22', '2014-09-24',\n",
              "        '2014-09-26', '2014-10-01', '2014-10-03', '2014-10-08',\n",
              "        '2014-10-10', '2014-10-15', '2014-10-17', '2014-10-22',\n",
              "        '2014-10-25', '2014-10-29', '2014-10-31', '2014-11-05',\n",
              "        '2014-11-07', '2014-11-12', '2014-11-14', '2014-11-19',\n",
              "        '2014-11-21', '2014-11-26', '2014-12-01', '2014-12-03',\n",
              "        '2014-12-10', '2014-12-15', '2014-12-17', '2014-12-22',\n",
              "        '2014-12-23', '2014-12-24', '2014-12-26', '2014-12-29',\n",
              "        '2014-12-30', '2014-12-31', '2015-01-02', '2015-01-05',\n",
              "        '2015-01-06', '2015-01-07', '2015-01-08', '2015-01-09',\n",
              "        '2015-01-12', '2015-01-13', '2015-01-14', '2015-01-15',\n",
              "        '2015-01-16', '2015-01-19', '2015-01-20', '2015-01-21',\n",
              "        '2015-01-22', '2015-01-23', '2015-01-26', '2015-01-27',\n",
              "        '2015-01-28', '2015-01-29', '2015-01-30', '2015-02-02',\n",
              "        '2015-02-03', '2015-02-04', '2015-02-05', '2015-02-06',\n",
              "        '2015-02-10', '2015-02-11', '2015-02-12', '2015-02-13',\n",
              "        '2015-02-16', '2015-02-17', '2015-02-18', '2015-02-19',\n",
              "        '2015-02-20', '2015-02-23', '2015-02-25', '2015-02-26',\n",
              "        '2015-02-27', '2015-03-02', '2015-03-04', '2015-03-05',\n",
              "        '2015-03-06', '2015-03-10', '2015-03-11', '2015-03-12',\n",
              "        '2015-03-13', '2015-03-16', '2015-03-17', '2015-03-18',\n",
              "        '2015-03-20', '2015-03-23', '2015-03-24', '2015-03-25',\n",
              "        '2015-03-26', '2015-03-27', '2015-04-07', '2015-04-09',\n",
              "        '2015-04-13', '2015-04-14', '2015-04-15', '2015-04-16',\n",
              "        '2015-04-17', '2015-04-20', '2015-04-21', '2015-04-22',\n",
              "        '2015-04-23', '2015-04-24', '2015-04-27', '2015-04-28',\n",
              "        '2015-04-30', '2015-05-01', '2015-05-04', '2015-05-05',\n",
              "        '2015-05-06', '2015-05-07', '2015-05-08', '2015-05-11',\n",
              "        '2015-05-12', '2015-05-13', '2015-05-14', '2015-05-15',\n",
              "        '2015-05-18', '2015-05-19', '2015-05-20', '2015-05-21',\n",
              "        '2015-05-22', '2015-05-25', '2015-05-26', '2015-05-27',\n",
              "        '2015-05-28', '2015-05-29', '2015-06-01', '2015-06-02',\n",
              "        '2015-06-03', '2015-06-04', '2015-06-05', '2015-06-08',\n",
              "        '2015-06-09', '2015-06-10', '2015-06-11', '2015-06-12',\n",
              "        '2015-06-15', '2015-06-16', '2015-06-17', '2015-06-18',\n",
              "        '2015-06-19', '2015-06-22', '2015-06-23', '2015-06-24',\n",
              "        '2015-06-25', '2015-06-26', '2015-06-29', '2015-06-30',\n",
              "        '2015-07-01', '2015-07-02', '2015-07-03', '2015-07-06',\n",
              "        '2015-07-07', '2015-07-08', '2015-07-09', '2015-07-10',\n",
              "        '2015-07-13', '2015-07-14', '2015-07-15', '2015-07-16',\n",
              "        '2015-07-17', '2015-07-20', '2015-07-21', '2015-07-22',\n",
              "        '2015-07-23', '2015-07-24', '2015-07-27', '2015-07-28',\n",
              "        '2015-07-29', '2015-07-30', '2015-07-31', '2015-08-03',\n",
              "        '2015-08-04', '2015-08-05', '2015-08-06', '2015-08-07',\n",
              "        '2015-08-10', '2015-08-11', '2015-08-12', '2015-08-13',\n",
              "        '2015-08-14', '2015-08-17', '2015-08-18', '2015-08-19',\n",
              "        '2015-08-20', '2015-08-21', '2015-08-24', '2015-08-25',\n",
              "        '2015-08-26', '2015-08-27', '2015-08-28', '2015-08-31',\n",
              "        '2015-09-01', '2015-09-02', '2015-09-03', '2015-09-04',\n",
              "        '2015-09-07', '2015-09-08', '2015-09-09', '2015-09-10',\n",
              "        '2015-09-11', '2015-09-14', '2015-09-15', '2015-09-16',\n",
              "        '2015-09-17', '2015-09-18', '2015-09-21', '2015-09-22',\n",
              "        '2015-09-23', '2015-09-24', '2015-09-25', '2015-09-28',\n",
              "        '2015-09-29', '2015-09-30', '2015-10-01', '2015-10-02',\n",
              "        '2015-10-05', '2015-10-06', '2015-10-07', '2015-10-08',\n",
              "        '2015-10-09', '2015-10-13', '2015-10-15', '2015-10-16',\n",
              "        '2015-10-20', '2015-10-22', '2015-10-23', '2015-10-26',\n",
              "        '2015-10-27', '2015-10-29', '2015-10-30', '2015-11-03',\n",
              "        '2015-11-05', '2015-11-06', '2015-11-10', '2015-11-11',\n",
              "        '2015-11-12', '2015-11-16', '2015-11-17', '2015-11-20',\n",
              "        '2015-11-24', '2015-11-26', '2015-12-01', '2015-12-02',\n",
              "        '2015-12-03', '2015-12-09', '2015-12-10', '2015-12-11',\n",
              "        '2015-12-15', '2015-12-16', '2015-12-17', '2015-12-22',\n",
              "        '2015-12-23', '2015-12-29', '2016-03-23'], dtype=object)]"
            ]
          },
          "metadata": {},
          "execution_count": 23
        }
      ]
    },
    {
      "cell_type": "markdown",
      "metadata": {
        "id": "D9f2DNZ-tiYj"
      },
      "source": [
        "# Regression Analysis"
      ]
    },
    {
      "cell_type": "code",
      "metadata": {
        "id": "Ty4BtdUMSLXf"
      },
      "source": [
        "from sklearn.model_selection import train_test_split\n",
        "from sklearn.linear_model import LogisticRegression\n",
        "from sklearn import metrics\n",
        "from scipy import stats\n",
        "%matplotlib inline"
      ],
      "execution_count": null,
      "outputs": []
    },
    {
      "cell_type": "code",
      "metadata": {
        "colab": {
          "base_uri": "https://localhost:8080/",
          "height": 736
        },
        "id": "OVOAvRCuSNXw",
        "outputId": "2e051e63-5a2c-40b5-8fbb-4974c97010ea"
      },
      "source": [
        "df.corr()"
      ],
      "execution_count": null,
      "outputs": [
        {
          "output_type": "execute_result",
          "data": {
            "text/html": [
              "<div>\n",
              "<style scoped>\n",
              "    .dataframe tbody tr th:only-of-type {\n",
              "        vertical-align: middle;\n",
              "    }\n",
              "\n",
              "    .dataframe tbody tr th {\n",
              "        vertical-align: top;\n",
              "    }\n",
              "\n",
              "    .dataframe thead th {\n",
              "        text-align: right;\n",
              "    }\n",
              "</style>\n",
              "<table border=\"1\" class=\"dataframe\">\n",
              "  <thead>\n",
              "    <tr style=\"text-align: right;\">\n",
              "      <th></th>\n",
              "      <th>Country</th>\n",
              "      <th>No. of suspected cases</th>\n",
              "      <th>No. of probable cases</th>\n",
              "      <th>No. of confirmed cases</th>\n",
              "      <th>No. of confirmed, probable and suspected cases</th>\n",
              "      <th>No. of suspected deaths</th>\n",
              "      <th>No. of probable deaths</th>\n",
              "      <th>No. of confirmed deaths</th>\n",
              "      <th>No. of confirmed, probable and suspected deaths</th>\n",
              "    </tr>\n",
              "  </thead>\n",
              "  <tbody>\n",
              "    <tr>\n",
              "      <th>Country</th>\n",
              "      <td>1.000000</td>\n",
              "      <td>-0.151249</td>\n",
              "      <td>-0.397431</td>\n",
              "      <td>-0.119052</td>\n",
              "      <td>-0.171722</td>\n",
              "      <td>-0.099427</td>\n",
              "      <td>-0.701849</td>\n",
              "      <td>-0.245172</td>\n",
              "      <td>-0.335469</td>\n",
              "    </tr>\n",
              "    <tr>\n",
              "      <th>No. of suspected cases</th>\n",
              "      <td>-0.151249</td>\n",
              "      <td>1.000000</td>\n",
              "      <td>0.791494</td>\n",
              "      <td>0.722700</td>\n",
              "      <td>0.927633</td>\n",
              "      <td>0.795845</td>\n",
              "      <td>0.284204</td>\n",
              "      <td>0.835812</td>\n",
              "      <td>0.903358</td>\n",
              "    </tr>\n",
              "    <tr>\n",
              "      <th>No. of probable cases</th>\n",
              "      <td>-0.397431</td>\n",
              "      <td>0.791494</td>\n",
              "      <td>1.000000</td>\n",
              "      <td>0.382666</td>\n",
              "      <td>0.670657</td>\n",
              "      <td>0.915317</td>\n",
              "      <td>0.915076</td>\n",
              "      <td>0.650413</td>\n",
              "      <td>0.810536</td>\n",
              "    </tr>\n",
              "    <tr>\n",
              "      <th>No. of confirmed cases</th>\n",
              "      <td>-0.119052</td>\n",
              "      <td>0.722700</td>\n",
              "      <td>0.382666</td>\n",
              "      <td>1.000000</td>\n",
              "      <td>0.925223</td>\n",
              "      <td>0.795118</td>\n",
              "      <td>0.583741</td>\n",
              "      <td>0.972546</td>\n",
              "      <td>0.836299</td>\n",
              "    </tr>\n",
              "    <tr>\n",
              "      <th>No. of confirmed, probable and suspected cases</th>\n",
              "      <td>-0.171722</td>\n",
              "      <td>0.927633</td>\n",
              "      <td>0.670657</td>\n",
              "      <td>0.925223</td>\n",
              "      <td>1.000000</td>\n",
              "      <td>0.820569</td>\n",
              "      <td>0.530560</td>\n",
              "      <td>0.959631</td>\n",
              "      <td>0.955800</td>\n",
              "    </tr>\n",
              "    <tr>\n",
              "      <th>No. of suspected deaths</th>\n",
              "      <td>-0.099427</td>\n",
              "      <td>0.795845</td>\n",
              "      <td>0.915317</td>\n",
              "      <td>0.795118</td>\n",
              "      <td>0.820569</td>\n",
              "      <td>1.000000</td>\n",
              "      <td>0.922873</td>\n",
              "      <td>0.813842</td>\n",
              "      <td>0.850016</td>\n",
              "    </tr>\n",
              "    <tr>\n",
              "      <th>No. of probable deaths</th>\n",
              "      <td>-0.701849</td>\n",
              "      <td>0.284204</td>\n",
              "      <td>0.915076</td>\n",
              "      <td>0.583741</td>\n",
              "      <td>0.530560</td>\n",
              "      <td>0.922873</td>\n",
              "      <td>1.000000</td>\n",
              "      <td>0.721055</td>\n",
              "      <td>0.768145</td>\n",
              "    </tr>\n",
              "    <tr>\n",
              "      <th>No. of confirmed deaths</th>\n",
              "      <td>-0.245172</td>\n",
              "      <td>0.835812</td>\n",
              "      <td>0.650413</td>\n",
              "      <td>0.972546</td>\n",
              "      <td>0.959631</td>\n",
              "      <td>0.813842</td>\n",
              "      <td>0.721055</td>\n",
              "      <td>1.000000</td>\n",
              "      <td>0.996844</td>\n",
              "    </tr>\n",
              "    <tr>\n",
              "      <th>No. of confirmed, probable and suspected deaths</th>\n",
              "      <td>-0.335469</td>\n",
              "      <td>0.903358</td>\n",
              "      <td>0.810536</td>\n",
              "      <td>0.836299</td>\n",
              "      <td>0.955800</td>\n",
              "      <td>0.850016</td>\n",
              "      <td>0.768145</td>\n",
              "      <td>0.996844</td>\n",
              "      <td>1.000000</td>\n",
              "    </tr>\n",
              "  </tbody>\n",
              "</table>\n",
              "</div>"
            ],
            "text/plain": [
              "                                                  Country  ...  No. of confirmed, probable and suspected deaths\n",
              "Country                                          1.000000  ...                                        -0.335469\n",
              "No. of suspected cases                          -0.151249  ...                                         0.903358\n",
              "No. of probable cases                           -0.397431  ...                                         0.810536\n",
              "No. of confirmed cases                          -0.119052  ...                                         0.836299\n",
              "No. of confirmed, probable and suspected cases  -0.171722  ...                                         0.955800\n",
              "No. of suspected deaths                         -0.099427  ...                                         0.850016\n",
              "No. of probable deaths                          -0.701849  ...                                         0.768145\n",
              "No. of confirmed deaths                         -0.245172  ...                                         0.996844\n",
              "No. of confirmed, probable and suspected deaths -0.335469  ...                                         1.000000\n",
              "\n",
              "[9 rows x 9 columns]"
            ]
          },
          "metadata": {},
          "execution_count": 25
        }
      ]
    },
    {
      "cell_type": "code",
      "metadata": {
        "colab": {
          "base_uri": "https://localhost:8080/"
        },
        "id": "5ACq6iy0SQCg",
        "outputId": "57133704-48f0-4440-c160-5a412f0db90d"
      },
      "source": [
        "df.isnull().sum()"
      ],
      "execution_count": null,
      "outputs": [
        {
          "output_type": "execute_result",
          "data": {
            "text/plain": [
              "Country                                               0\n",
              "Date                                                  0\n",
              "No. of suspected cases                              119\n",
              "No. of probable cases                                49\n",
              "No. of confirmed cases                                1\n",
              "No. of confirmed, probable and suspected cases        8\n",
              "No. of suspected deaths                            1177\n",
              "No. of probable deaths                              959\n",
              "No. of confirmed deaths                             837\n",
              "No. of confirmed, probable and suspected deaths       0\n",
              "dtype: int64"
            ]
          },
          "metadata": {},
          "execution_count": 26
        }
      ]
    },
    {
      "cell_type": "code",
      "metadata": {
        "colab": {
          "base_uri": "https://localhost:8080/"
        },
        "id": "hKyiaPXOSUNN",
        "outputId": "1bc1f13b-7329-401f-ff0f-d4b75f474804"
      },
      "source": [
        "df['No. of confirmed cases'].isnull().sum()\n",
        "\n",
        "df['No. of confirmed cases'].mean()"
      ],
      "execution_count": null,
      "outputs": [
        {
          "output_type": "execute_result",
          "data": {
            "text/plain": [
              "1436.616344605475"
            ]
          },
          "metadata": {},
          "execution_count": 27
        }
      ]
    },
    {
      "cell_type": "code",
      "metadata": {
        "colab": {
          "base_uri": "https://localhost:8080/"
        },
        "id": "sxO-KkpESY4z",
        "outputId": "9f9bc15c-85d2-4725-ade7-cdeb6efeb668"
      },
      "source": [
        "df['No. of confirmed cases'].replace(np.NaN, df['No. of confirmed cases'].mean()).head(15)"
      ],
      "execution_count": null,
      "outputs": [
        {
          "output_type": "execute_result",
          "data": {
            "text/plain": [
              "0      482.0\n",
              "1       15.0\n",
              "2      935.0\n",
              "3      322.0\n",
              "4     1146.0\n",
              "5       18.0\n",
              "6      614.0\n",
              "7      604.0\n",
              "8        1.0\n",
              "9        1.0\n",
              "10     664.0\n",
              "11    1234.0\n",
              "12     634.0\n",
              "13      19.0\n",
              "14     678.0\n",
              "Name: No. of confirmed cases, dtype: float64"
            ]
          },
          "metadata": {},
          "execution_count": 28
        }
      ]
    },
    {
      "cell_type": "code",
      "metadata": {
        "colab": {
          "base_uri": "https://localhost:8080/"
        },
        "id": "vtO_9h6RSbtd",
        "outputId": "ae6b0cef-dcfb-4305-ef1f-95fcf9ed9af4"
      },
      "source": [
        "df['No. of confirmed cases'].isnull().sum()"
      ],
      "execution_count": null,
      "outputs": [
        {
          "output_type": "execute_result",
          "data": {
            "text/plain": [
              "1"
            ]
          },
          "metadata": {},
          "execution_count": 29
        }
      ]
    },
    {
      "cell_type": "code",
      "metadata": {
        "colab": {
          "base_uri": "https://localhost:8080/"
        },
        "id": "IkY07FJhSel4",
        "outputId": "ef36197e-b85c-4118-a95d-8bd4f7d37d89"
      },
      "source": [
        "df['No. of suspected cases'].isnull().sum()\n",
        "\n",
        "df['No. of suspected cases'].mean()"
      ],
      "execution_count": null,
      "outputs": [
        {
          "output_type": "execute_result",
          "data": {
            "text/plain": [
              "891.841504649197"
            ]
          },
          "metadata": {},
          "execution_count": 30
        }
      ]
    },
    {
      "cell_type": "code",
      "metadata": {
        "colab": {
          "base_uri": "https://localhost:8080/"
        },
        "id": "boieUeU7Sehc",
        "outputId": "8d314145-4216-4231-f661-402037be11bb"
      },
      "source": [
        "df['No. of suspected cases'].replace(np.NaN, df['No. of suspected cases'].mean()).head(15)"
      ],
      "execution_count": null,
      "outputs": [
        {
          "output_type": "execute_result",
          "data": {
            "text/plain": [
              "0      25.000000\n",
              "1       3.000000\n",
              "2      54.000000\n",
              "3     382.000000\n",
              "4      78.000000\n",
              "5       3.000000\n",
              "6     369.000000\n",
              "7      56.000000\n",
              "8     891.841505\n",
              "9       2.000000\n",
              "10     47.000000\n",
              "11     90.000000\n",
              "12    443.000000\n",
              "13      1.000000\n",
              "14     32.000000\n",
              "Name: No. of suspected cases, dtype: float64"
            ]
          },
          "metadata": {},
          "execution_count": 31
        }
      ]
    },
    {
      "cell_type": "code",
      "metadata": {
        "colab": {
          "base_uri": "https://localhost:8080/"
        },
        "id": "EHDjLDQOSeev",
        "outputId": "1724454c-6f33-4b97-e8bf-e74e4ff431e9"
      },
      "source": [
        "df['No. of probable cases'].isnull().sum()\n",
        "\n",
        "df['No. of probable cases'].mean()"
      ],
      "execution_count": null,
      "outputs": [
        {
          "output_type": "execute_result",
          "data": {
            "text/plain": [
              "263.7335796387521"
            ]
          },
          "metadata": {},
          "execution_count": 32
        }
      ]
    },
    {
      "cell_type": "code",
      "metadata": {
        "colab": {
          "base_uri": "https://localhost:8080/"
        },
        "id": "H67nGANPSecb",
        "outputId": "7034edae-f74d-4357-ad88-2305f1dbe405"
      },
      "source": [
        "df['No. of probable cases'].replace(np.NaN, df['No. of suspected cases'].mean()).head(15)"
      ],
      "execution_count": null,
      "outputs": [
        {
          "output_type": "execute_result",
          "data": {
            "text/plain": [
              "0     141.000000\n",
              "1       1.000000\n",
              "2      37.000000\n",
              "3     674.000000\n",
              "4      37.000000\n",
              "5       1.000000\n",
              "6     888.000000\n",
              "7     152.000000\n",
              "8     891.841505\n",
              "9       0.000000\n",
              "10    151.000000\n",
              "11     37.000000\n",
              "12    969.000000\n",
              "13      1.000000\n",
              "14    151.000000\n",
              "Name: No. of probable cases, dtype: float64"
            ]
          },
          "metadata": {},
          "execution_count": 33
        }
      ]
    },
    {
      "cell_type": "code",
      "metadata": {
        "colab": {
          "base_uri": "https://localhost:8080/"
        },
        "id": "ndCk4DCiSeZ1",
        "outputId": "440b5967-f6d5-4552-cb05-0b0d26a7bcce"
      },
      "source": [
        "df['No. of confirmed, probable and suspected cases'].isnull().sum()\n",
        "\n",
        "df['No. of confirmed, probable and suspected cases'].mean()"
      ],
      "execution_count": null,
      "outputs": [
        {
          "output_type": "execute_result",
          "data": {
            "text/plain": [
              "2553.6786435203876"
            ]
          },
          "metadata": {},
          "execution_count": 34
        }
      ]
    },
    {
      "cell_type": "code",
      "metadata": {
        "colab": {
          "base_uri": "https://localhost:8080/"
        },
        "id": "mUHpZst0SeYQ",
        "outputId": "0314472a-10e0-41f0-e066-aac3bd9330fb"
      },
      "source": [
        "df['No. of confirmed, probable and suspected cases'].replace(np.NaN, df['No. of confirmed, probable and suspected cases'].mean()).head(15)"
      ],
      "execution_count": null,
      "outputs": [
        {
          "output_type": "execute_result",
          "data": {
            "text/plain": [
              "0      648.0\n",
              "1       19.0\n",
              "2     1026.0\n",
              "3     1378.0\n",
              "4     1261.0\n",
              "5       22.0\n",
              "6     1871.0\n",
              "7      812.0\n",
              "8        1.0\n",
              "9        3.0\n",
              "10     862.0\n",
              "11    1361.0\n",
              "12    2046.0\n",
              "13      21.0\n",
              "14     861.0\n",
              "Name: No. of confirmed, probable and suspected cases, dtype: float64"
            ]
          },
          "metadata": {},
          "execution_count": 35
        }
      ]
    },
    {
      "cell_type": "code",
      "metadata": {
        "colab": {
          "base_uri": "https://localhost:8080/"
        },
        "id": "_fOMmiOVSeNr",
        "outputId": "28a7f680-5d73-4936-cea2-c82a10f8071f"
      },
      "source": [
        "df['No. of suspected deaths'].isnull().sum()\n",
        "\n",
        "df['No. of suspected deaths'].mean()"
      ],
      "execution_count": null,
      "outputs": [
        {
          "output_type": "execute_result",
          "data": {
            "text/plain": [
              "32.89908256880734"
            ]
          },
          "metadata": {},
          "execution_count": 36
        }
      ]
    },
    {
      "cell_type": "code",
      "metadata": {
        "colab": {
          "base_uri": "https://localhost:8080/"
        },
        "id": "GfOoSQVwSeJV",
        "outputId": "c1d2980b-2674-4fdc-928b-b75b3c7a754c"
      },
      "source": [
        "df['No. of suspected deaths'].replace(np.NaN, df['No. of suspected deaths'].mean()).head(15)"
      ],
      "execution_count": null,
      "outputs": [
        {
          "output_type": "execute_result",
          "data": {
            "text/plain": [
              "0       2.000000\n",
              "1       0.000000\n",
              "2       8.000000\n",
              "3     168.000000\n",
              "4      11.000000\n",
              "5       0.000000\n",
              "6     257.000000\n",
              "7       3.000000\n",
              "8      32.899083\n",
              "9       0.000000\n",
              "10      4.000000\n",
              "11     11.000000\n",
              "12    296.000000\n",
              "13      0.000000\n",
              "14      4.000000\n",
              "Name: No. of suspected deaths, dtype: float64"
            ]
          },
          "metadata": {},
          "execution_count": 37
        }
      ]
    },
    {
      "cell_type": "code",
      "metadata": {
        "colab": {
          "base_uri": "https://localhost:8080/"
        },
        "id": "dvEMi9AjSeHV",
        "outputId": "0c66f9b5-45a4-46b5-ee43-c9412f9974be"
      },
      "source": [
        "df['No. of probable deaths'].isnull().sum()\n",
        "\n",
        "df['No. of probable deaths'].mean()"
      ],
      "execution_count": null,
      "outputs": [
        {
          "output_type": "execute_result",
          "data": {
            "text/plain": [
              "104.5353866317169"
            ]
          },
          "metadata": {},
          "execution_count": 38
        }
      ]
    },
    {
      "cell_type": "code",
      "metadata": {
        "colab": {
          "base_uri": "https://localhost:8080/"
        },
        "id": "t3r81HgsSeEL",
        "outputId": "6f24195c-f285-41b3-a0dc-5abf8148956b"
      },
      "source": [
        "df['No. of probable deaths'].replace(np.NaN, df['No. of probable deaths'].mean()).head(15)"
      ],
      "execution_count": null,
      "outputs": [
        {
          "output_type": "execute_result",
          "data": {
            "text/plain": [
              "0     141.000000\n",
              "1       1.000000\n",
              "2      34.000000\n",
              "3     301.000000\n",
              "4      37.000000\n",
              "5       1.000000\n",
              "6     401.000000\n",
              "7     152.000000\n",
              "8     104.535387\n",
              "9       0.000000\n",
              "10    151.000000\n",
              "11     37.000000\n",
              "12    420.000000\n",
              "13      1.000000\n",
              "14    150.000000\n",
              "Name: No. of probable deaths, dtype: float64"
            ]
          },
          "metadata": {},
          "execution_count": 39
        }
      ]
    },
    {
      "cell_type": "code",
      "metadata": {
        "colab": {
          "base_uri": "https://localhost:8080/"
        },
        "id": "jPcnAgMnSeCF",
        "outputId": "cd11eec2-1d13-4bbb-8542-901f0accea67"
      },
      "source": [
        "df['No. of confirmed deaths'].isnull().sum()\n",
        "\n",
        "df['No. of confirmed deaths'].mean()"
      ],
      "execution_count": null,
      "outputs": [
        {
          "output_type": "execute_result",
          "data": {
            "text/plain": [
              "781.6620145631068"
            ]
          },
          "metadata": {},
          "execution_count": 40
        }
      ]
    },
    {
      "cell_type": "code",
      "metadata": {
        "colab": {
          "base_uri": "https://localhost:8080/"
        },
        "id": "nx235_0XSd_O",
        "outputId": "a58fa2bf-94ad-46b6-8782-cb4f6ba7a296"
      },
      "source": [
        "df['No. of confirmed deaths'].replace(np.NaN, df['No. of confirmed deaths'].mean()).head(15)"
      ],
      "execution_count": null,
      "outputs": [
        {
          "output_type": "execute_result",
          "data": {
            "text/plain": [
              "0     287.0\n",
              "1       6.0\n",
              "2     380.0\n",
              "3     225.0\n",
              "4     443.0\n",
              "5       7.0\n",
              "6     431.0\n",
              "7     362.0\n",
              "8       0.0\n",
              "9       0.0\n",
              "10    400.0\n",
              "11    461.0\n",
              "12    508.0\n",
              "13      7.0\n",
              "14    403.0\n",
              "Name: No. of confirmed deaths, dtype: float64"
            ]
          },
          "metadata": {},
          "execution_count": 41
        }
      ]
    },
    {
      "cell_type": "code",
      "metadata": {
        "colab": {
          "base_uri": "https://localhost:8080/"
        },
        "id": "nnFO2rq0Sd8s",
        "outputId": "7ba72645-55de-4aab-fbca-b30757991b0a"
      },
      "source": [
        "df.isnull().sum()"
      ],
      "execution_count": null,
      "outputs": [
        {
          "output_type": "execute_result",
          "data": {
            "text/plain": [
              "Country                                               0\n",
              "Date                                                  0\n",
              "No. of suspected cases                              119\n",
              "No. of probable cases                                49\n",
              "No. of confirmed cases                                1\n",
              "No. of confirmed, probable and suspected cases        8\n",
              "No. of suspected deaths                            1177\n",
              "No. of probable deaths                              959\n",
              "No. of confirmed deaths                             837\n",
              "No. of confirmed, probable and suspected deaths       0\n",
              "dtype: int64"
            ]
          },
          "metadata": {},
          "execution_count": 42
        }
      ]
    },
    {
      "cell_type": "markdown",
      "metadata": {
        "id": "HNysU3OItP2m"
      },
      "source": [
        "Mean is not working for the dataset so missing value is replaced by the median\n"
      ]
    },
    {
      "cell_type": "code",
      "metadata": {
        "id": "y6-C-PNnSd6w"
      },
      "source": [
        "median = df[\"No. of suspected cases\"].median()\n",
        "df[\"No. of suspected cases\"].fillna(median, inplace=True)"
      ],
      "execution_count": null,
      "outputs": []
    },
    {
      "cell_type": "code",
      "metadata": {
        "id": "jWaYNgA_Sd4u"
      },
      "source": [
        "median = df[\"No. of probable cases\"].median()\n",
        "df[\"No. of probable cases\"].fillna(median, inplace=True)"
      ],
      "execution_count": null,
      "outputs": []
    },
    {
      "cell_type": "code",
      "metadata": {
        "id": "RlyPBVGPS6q5"
      },
      "source": [
        "median = df[\"No. of confirmed cases\"].median()\n",
        "df[\"No. of confirmed cases\"].fillna(median, inplace=True)"
      ],
      "execution_count": null,
      "outputs": []
    },
    {
      "cell_type": "code",
      "metadata": {
        "id": "rnYDf82BS6mR"
      },
      "source": [
        "median = df[\"No. of confirmed, probable and suspected cases\"].median()\n",
        "df[\"No. of confirmed, probable and suspected cases\"].fillna(median, inplace=True)"
      ],
      "execution_count": null,
      "outputs": []
    },
    {
      "cell_type": "code",
      "metadata": {
        "id": "dzLO5llBS6jN"
      },
      "source": [
        "median = df[\"No. of probable deaths\"].median()\n",
        "df[\"No. of probable deaths\"].fillna(median, inplace=True)"
      ],
      "execution_count": null,
      "outputs": []
    },
    {
      "cell_type": "code",
      "metadata": {
        "id": "wxVChvg1S6gp"
      },
      "source": [
        "median = df[\"No. of confirmed deaths\"].median()\n",
        "df[\"No. of confirmed deaths\"].fillna(median, inplace=True)"
      ],
      "execution_count": null,
      "outputs": []
    },
    {
      "cell_type": "code",
      "metadata": {
        "id": "Q1rOxHooTJgu"
      },
      "source": [
        "median = df[\"No. of suspected deaths\"].median()\n",
        "df[\"No. of suspected deaths\"].fillna(median, inplace=True)"
      ],
      "execution_count": null,
      "outputs": []
    },
    {
      "cell_type": "code",
      "metadata": {
        "colab": {
          "base_uri": "https://localhost:8080/"
        },
        "id": "Izh87gBTTJdR",
        "outputId": "4dfa8fa3-ecff-4e7a-9a2b-3e61775e182c"
      },
      "source": [
        "df.isnull().sum()"
      ],
      "execution_count": null,
      "outputs": [
        {
          "output_type": "execute_result",
          "data": {
            "text/plain": [
              "Country                                            0\n",
              "Date                                               0\n",
              "No. of suspected cases                             0\n",
              "No. of probable cases                              0\n",
              "No. of confirmed cases                             0\n",
              "No. of confirmed, probable and suspected cases     0\n",
              "No. of suspected deaths                            0\n",
              "No. of probable deaths                             0\n",
              "No. of confirmed deaths                            0\n",
              "No. of confirmed, probable and suspected deaths    0\n",
              "dtype: int64"
            ]
          },
          "metadata": {},
          "execution_count": 50
        }
      ]
    },
    {
      "cell_type": "code",
      "metadata": {
        "id": "fKD0JsCmTJbU"
      },
      "source": [
        "feature_cols = ['No. of suspected cases', 'No. of probable cases', 'No. of suspected deaths', 'No. of probable deaths']\n",
        "X = df[feature_cols]\n",
        "y = df.Country"
      ],
      "execution_count": null,
      "outputs": []
    },
    {
      "cell_type": "code",
      "metadata": {
        "id": "kRPkDeU7TRDZ",
        "colab": {
          "base_uri": "https://localhost:8080/"
        },
        "outputId": "26adc969-d3a1-4cd5-be67-c100d293ea78"
      },
      "source": [
        "X_train,X_test,y_train,y_test=train_test_split(X,y,test_size=0.25,random_state=0)\n",
        "logreg = LogisticRegression(solver='liblinear')\n",
        "logreg.fit(X_train,y_train)\n",
        "y_pred=logreg.predict(X_test)"
      ],
      "execution_count": null,
      "outputs": [
        {
          "output_type": "stream",
          "name": "stderr",
          "text": [
            "/usr/local/lib/python3.7/dist-packages/sklearn/svm/_base.py:947: ConvergenceWarning:\n",
            "\n",
            "Liblinear failed to converge, increase the number of iterations.\n",
            "\n"
          ]
        }
      ]
    },
    {
      "cell_type": "code",
      "metadata": {
        "colab": {
          "base_uri": "https://localhost:8080/"
        },
        "id": "jrr2rLqCTTBu",
        "outputId": "1d773713-5539-4fca-cdb2-adde1a18d850"
      },
      "source": [
        "cnf_matrix = metrics.confusion_matrix(y_test, y_pred)\n",
        "cnf_matrix"
      ],
      "execution_count": null,
      "outputs": [
        {
          "output_type": "execute_result",
          "data": {
            "text/plain": [
              "array([[68,  0,  0,  0,  0,  0,  0,  0,  0,  0],\n",
              "       [ 0,  0,  0,  0,  0,  0,  0,  0, 32,  0],\n",
              "       [ 0,  0, 76, 10,  0,  0,  0,  0,  6,  0],\n",
              "       [ 0,  0,  1, 46,  0,  2,  0,  0,  0,  0],\n",
              "       [ 0,  0,  2, 61,  0,  0,  0,  0,  0,  0],\n",
              "       [ 0,  0,  0,  0,  0, 66,  0,  0,  0,  0],\n",
              "       [ 0,  0,  0,  0,  0,  0, 71,  0,  0,  0],\n",
              "       [ 0,  0,  0,  0,  0, 61,  0,  0,  0,  0],\n",
              "       [ 0,  0,  0,  0,  0,  2,  0,  0, 59,  0],\n",
              "       [ 0,  0,  0,  0,  0, 59,  0,  0,  0,  0]])"
            ]
          },
          "metadata": {},
          "execution_count": 53
        }
      ]
    },
    {
      "cell_type": "code",
      "metadata": {
        "colab": {
          "base_uri": "https://localhost:8080/"
        },
        "id": "VbthzZmYTU_8",
        "outputId": "25450e93-beb0-45fc-a4fa-9506e88d24de"
      },
      "source": [
        "print(\"Accuracy:\",metrics.accuracy_score(y_test, y_pred))"
      ],
      "execution_count": null,
      "outputs": [
        {
          "output_type": "stream",
          "name": "stdout",
          "text": [
            "Accuracy: 0.6205787781350482\n"
          ]
        }
      ]
    },
    {
      "cell_type": "markdown",
      "metadata": {
        "id": "ESf5uBa8tWx9"
      },
      "source": [
        "# **Random Forest**"
      ]
    },
    {
      "cell_type": "code",
      "metadata": {
        "id": "jw9Mw26cTotT"
      },
      "source": [
        "import numpy as np # linear algebra\n",
        "import pandas as pd # data processing, CSV file I/O (e.g. pd.read_csv)\n",
        "import matplotlib.pyplot as plt # data visualization\n",
        "import seaborn as sns # statistical data visualization\n",
        "%matplotlib inline\n",
        "import warnings\n",
        "\n",
        "warnings.filterwarnings('ignore')\n"
      ],
      "execution_count": null,
      "outputs": []
    },
    {
      "cell_type": "code",
      "metadata": {
        "id": "yo-Wh129Ton9"
      },
      "source": [
        ""
      ],
      "execution_count": null,
      "outputs": []
    },
    {
      "cell_type": "code",
      "metadata": {
        "colab": {
          "base_uri": "https://localhost:8080/"
        },
        "id": "1JnRlAVGToky",
        "outputId": "e8bbe2ac-06b6-4115-9db7-ed3a1a8e02be"
      },
      "source": [
        "df.shape"
      ],
      "execution_count": null,
      "outputs": [
        {
          "output_type": "execute_result",
          "data": {
            "text/plain": [
              "(2485, 10)"
            ]
          },
          "metadata": {},
          "execution_count": 56
        }
      ]
    },
    {
      "cell_type": "code",
      "metadata": {
        "colab": {
          "base_uri": "https://localhost:8080/",
          "height": 357
        },
        "id": "3L_ncQoYToiH",
        "outputId": "bffbea88-426b-41a5-f871-0caec70362e7"
      },
      "source": [
        "df.head()"
      ],
      "execution_count": null,
      "outputs": [
        {
          "output_type": "execute_result",
          "data": {
            "text/html": [
              "<div>\n",
              "<style scoped>\n",
              "    .dataframe tbody tr th:only-of-type {\n",
              "        vertical-align: middle;\n",
              "    }\n",
              "\n",
              "    .dataframe tbody tr th {\n",
              "        vertical-align: top;\n",
              "    }\n",
              "\n",
              "    .dataframe thead th {\n",
              "        text-align: right;\n",
              "    }\n",
              "</style>\n",
              "<table border=\"1\" class=\"dataframe\">\n",
              "  <thead>\n",
              "    <tr style=\"text-align: right;\">\n",
              "      <th></th>\n",
              "      <th>Country</th>\n",
              "      <th>Date</th>\n",
              "      <th>No. of suspected cases</th>\n",
              "      <th>No. of probable cases</th>\n",
              "      <th>No. of confirmed cases</th>\n",
              "      <th>No. of confirmed, probable and suspected cases</th>\n",
              "      <th>No. of suspected deaths</th>\n",
              "      <th>No. of probable deaths</th>\n",
              "      <th>No. of confirmed deaths</th>\n",
              "      <th>No. of confirmed, probable and suspected deaths</th>\n",
              "    </tr>\n",
              "  </thead>\n",
              "  <tbody>\n",
              "    <tr>\n",
              "      <th>0</th>\n",
              "      <td>0</td>\n",
              "      <td>2014-08-29</td>\n",
              "      <td>25.0</td>\n",
              "      <td>141.0</td>\n",
              "      <td>482.0</td>\n",
              "      <td>648.0</td>\n",
              "      <td>2.0</td>\n",
              "      <td>141.0</td>\n",
              "      <td>287.0</td>\n",
              "      <td>430.0</td>\n",
              "    </tr>\n",
              "    <tr>\n",
              "      <th>1</th>\n",
              "      <td>4</td>\n",
              "      <td>2014-08-29</td>\n",
              "      <td>3.0</td>\n",
              "      <td>1.0</td>\n",
              "      <td>15.0</td>\n",
              "      <td>19.0</td>\n",
              "      <td>0.0</td>\n",
              "      <td>1.0</td>\n",
              "      <td>6.0</td>\n",
              "      <td>7.0</td>\n",
              "    </tr>\n",
              "    <tr>\n",
              "      <th>2</th>\n",
              "      <td>6</td>\n",
              "      <td>2014-08-29</td>\n",
              "      <td>54.0</td>\n",
              "      <td>37.0</td>\n",
              "      <td>935.0</td>\n",
              "      <td>1026.0</td>\n",
              "      <td>8.0</td>\n",
              "      <td>34.0</td>\n",
              "      <td>380.0</td>\n",
              "      <td>422.0</td>\n",
              "    </tr>\n",
              "    <tr>\n",
              "      <th>3</th>\n",
              "      <td>2</td>\n",
              "      <td>2014-08-29</td>\n",
              "      <td>382.0</td>\n",
              "      <td>674.0</td>\n",
              "      <td>322.0</td>\n",
              "      <td>1378.0</td>\n",
              "      <td>168.0</td>\n",
              "      <td>301.0</td>\n",
              "      <td>225.0</td>\n",
              "      <td>694.0</td>\n",
              "    </tr>\n",
              "    <tr>\n",
              "      <th>4</th>\n",
              "      <td>6</td>\n",
              "      <td>2014-09-05</td>\n",
              "      <td>78.0</td>\n",
              "      <td>37.0</td>\n",
              "      <td>1146.0</td>\n",
              "      <td>1261.0</td>\n",
              "      <td>11.0</td>\n",
              "      <td>37.0</td>\n",
              "      <td>443.0</td>\n",
              "      <td>491.0</td>\n",
              "    </tr>\n",
              "  </tbody>\n",
              "</table>\n",
              "</div>"
            ],
            "text/plain": [
              "   Country  ... No. of confirmed, probable and suspected deaths\n",
              "0        0  ...                                           430.0\n",
              "1        4  ...                                             7.0\n",
              "2        6  ...                                           422.0\n",
              "3        2  ...                                           694.0\n",
              "4        6  ...                                           491.0\n",
              "\n",
              "[5 rows x 10 columns]"
            ]
          },
          "metadata": {},
          "execution_count": 57
        }
      ]
    },
    {
      "cell_type": "code",
      "metadata": {
        "id": "MbwipI6wT5Mb"
      },
      "source": [
        "import pandas as pd\n",
        "\n",
        "def clean_dataset(df):\n",
        "    assert isinstance(df, pd.DataFrame), \"df needs to be a pd.DataFrame\"\n",
        "    df.dropna(inplace=True)\n",
        "    indices_to_keep = ~df.isin([np.nan, np.inf, -np.inf]).any(1)\n",
        "    return df[indices_to_keep].astype(np.float64)"
      ],
      "execution_count": null,
      "outputs": []
    },
    {
      "cell_type": "code",
      "metadata": {
        "colab": {
          "base_uri": "https://localhost:8080/"
        },
        "id": "ubnY7r5CT5Gw",
        "outputId": "8460fd3e-d438-4bdd-d34f-3d48ac495a8b"
      },
      "source": [
        "col_names = ['country', 'Date', 'No. of suspected cases', 'No. of probable cases', 'No. of confirmed cases', 'No. of confirmed, probable and suspected cases', \n",
        "             'No. of suspected deaths', 'No. of probable deaths', 'No. of confirmed deaths','No. of confirmed, probable and suspected deaths']\n",
        "\n",
        "\n",
        "df.columns = col_names\n",
        "\n",
        "col_names"
      ],
      "execution_count": null,
      "outputs": [
        {
          "output_type": "execute_result",
          "data": {
            "text/plain": [
              "['country',\n",
              " 'Date',\n",
              " 'No. of suspected cases',\n",
              " 'No. of probable cases',\n",
              " 'No. of confirmed cases',\n",
              " 'No. of confirmed, probable and suspected cases',\n",
              " 'No. of suspected deaths',\n",
              " 'No. of probable deaths',\n",
              " 'No. of confirmed deaths',\n",
              " 'No. of confirmed, probable and suspected deaths']"
            ]
          },
          "metadata": {},
          "execution_count": 59
        }
      ]
    },
    {
      "cell_type": "code",
      "metadata": {
        "colab": {
          "base_uri": "https://localhost:8080/"
        },
        "id": "zrDd6g7ST5DO",
        "outputId": "a835431a-b827-4955-d81c-c9f0180b4cfa"
      },
      "source": [
        "col_names =['country', 'Date', 'No. of suspected cases', 'No. of probable cases', 'No. of confirmed cases', 'No. of confirmed, probable and suspected cases', \n",
        "             'No. of suspected deaths', 'No. of probable deaths', 'No. of confirmed deaths','No. of confirmed, probable and suspected deaths']\n",
        "\n",
        "\n",
        "for col in col_names:\n",
        "    \n",
        "    print(df[col].value_counts())"
      ],
      "execution_count": null,
      "outputs": [
        {
          "output_type": "stream",
          "name": "stdout",
          "text": [
            "2    365\n",
            "6    259\n",
            "0    259\n",
            "4    255\n",
            "5    254\n",
            "9    245\n",
            "7    243\n",
            "3    243\n",
            "8    221\n",
            "1    141\n",
            "Name: country, dtype: int64\n",
            "2016-03-23    12\n",
            "2015-08-19    11\n",
            "2015-12-15    11\n",
            "2015-12-16    11\n",
            "2015-09-17    11\n",
            "              ..\n",
            "2014-09-08     5\n",
            "2014-09-26     5\n",
            "2015-01-13     5\n",
            "2014-09-16     5\n",
            "2014-08-29     4\n",
            "Name: Date, Length: 259, dtype: int64\n",
            "0.0       1712\n",
            "5636.0     139\n",
            "5131.0      21\n",
            "7.0         19\n",
            "1.0         19\n",
            "          ... \n",
            "4500.0       1\n",
            "5070.0       1\n",
            "3397.0       1\n",
            "3666.0       1\n",
            "4966.0       1\n",
            "Name: No. of suspected cases, Length: 311, dtype: int64\n",
            "0.0       1151\n",
            "1.0        556\n",
            "287.0      228\n",
            "1879.0     178\n",
            "453.0       49\n",
            "          ... \n",
            "674.0        1\n",
            "1831.0       1\n",
            "1814.0       1\n",
            "1795.0       1\n",
            "141.0        1\n",
            "Name: No. of probable cases, Length: 103, dtype: int64\n",
            "1.0       867\n",
            "19.0      253\n",
            "4.0       239\n",
            "7.0       235\n",
            "3151.0    170\n",
            "         ... \n",
            "4057.0      1\n",
            "2575.0      1\n",
            "1929.0      1\n",
            "8611.0      1\n",
            "482.0       1\n",
            "Name: No. of confirmed cases, Length: 343, dtype: int64\n",
            "1.0        859\n",
            "20.0       249\n",
            "4.0        244\n",
            "8.0        238\n",
            "10666.0    139\n",
            "          ... \n",
            "8166.0       1\n",
            "13982.0      1\n",
            "3585.0       1\n",
            "5235.0       1\n",
            "648.0        1\n",
            "Name: No. of confirmed, probable and suspected cases, Length: 435, dtype: int64\n",
            "0.0      2200\n",
            "158.0     228\n",
            "35.0       13\n",
            "11.0        9\n",
            "5.0         5\n",
            "4.0         4\n",
            "109.0       2\n",
            "661.0       2\n",
            "2.0         2\n",
            "257.0       1\n",
            "415.0       1\n",
            "310.0       1\n",
            "8.0         1\n",
            "168.0       1\n",
            "364.0       1\n",
            "3.0         1\n",
            "519.0       1\n",
            "12.0        1\n",
            "458.0       1\n",
            "31.0        1\n",
            "100.0       1\n",
            "1.0         1\n",
            "491.0       1\n",
            "444.0       1\n",
            "296.0       1\n",
            "107.0       1\n",
            "413.0       1\n",
            "211.0       1\n",
            "261.0       1\n",
            "Name: No. of suspected deaths, dtype: int64\n",
            "1.0      1217\n",
            "0.0       737\n",
            "208.0     230\n",
            "453.0      49\n",
            "452.0      37\n",
            "         ... \n",
            "269.0       1\n",
            "151.0       1\n",
            "518.0       1\n",
            "190.0       1\n",
            "141.0       1\n",
            "Name: No. of probable deaths, Length: 75, dtype: int64\n",
            "2.0       924\n",
            "0.0       503\n",
            "1.0       255\n",
            "7.0       254\n",
            "3589.0     51\n",
            "         ... \n",
            "2461.0      1\n",
            "2701.0      1\n",
            "2027.0      1\n",
            "1422.0      1\n",
            "6.0         1\n",
            "Name: No. of confirmed deaths, Length: 284, dtype: int64\n",
            "0.0       862\n",
            "8.0       254\n",
            "1.0       253\n",
            "6.0       235\n",
            "4806.0    139\n",
            "         ... \n",
            "3841.0      1\n",
            "2342.0      1\n",
            "1708.0      1\n",
            "597.0       1\n",
            "430.0       1\n",
            "Name: No. of confirmed, probable and suspected deaths, Length: 341, dtype: int64\n"
          ]
        }
      ]
    },
    {
      "cell_type": "code",
      "metadata": {
        "colab": {
          "base_uri": "https://localhost:8080/"
        },
        "id": "yXHbU07FT47n",
        "outputId": "6fc96431-5e32-4f21-89b4-39a4e9304c7a"
      },
      "source": [
        "df['No. of confirmed, probable and suspected cases'].value_counts()"
      ],
      "execution_count": null,
      "outputs": [
        {
          "output_type": "execute_result",
          "data": {
            "text/plain": [
              "1.0        859\n",
              "20.0       249\n",
              "4.0        244\n",
              "8.0        238\n",
              "10666.0    139\n",
              "          ... \n",
              "8166.0       1\n",
              "13982.0      1\n",
              "3585.0       1\n",
              "5235.0       1\n",
              "648.0        1\n",
              "Name: No. of confirmed, probable and suspected cases, Length: 435, dtype: int64"
            ]
          },
          "metadata": {},
          "execution_count": 61
        }
      ]
    },
    {
      "cell_type": "code",
      "metadata": {
        "id": "r9pPwFw5UPff"
      },
      "source": [
        "X = df.drop(['No. of confirmed, probable and suspected cases'], axis=1)\n",
        "\n",
        "y = df['No. of confirmed, probable and suspected cases']"
      ],
      "execution_count": null,
      "outputs": []
    },
    {
      "cell_type": "code",
      "metadata": {
        "id": "vM7XkZJgUPcv"
      },
      "source": [
        "from sklearn.model_selection import train_test_split\n",
        "\n",
        "X_train, X_test, y_train, y_test = train_test_split(X, y, test_size = 0.33, random_state = 42)"
      ],
      "execution_count": null,
      "outputs": []
    },
    {
      "cell_type": "code",
      "metadata": {
        "colab": {
          "base_uri": "https://localhost:8080/"
        },
        "id": "xe5QSvRWUPaN",
        "outputId": "6d0041bb-72cd-4cc5-8649-08aaef374064"
      },
      "source": [
        "X_train.shape, X_test.shape"
      ],
      "execution_count": null,
      "outputs": [
        {
          "output_type": "execute_result",
          "data": {
            "text/plain": [
              "((1664, 9), (821, 9))"
            ]
          },
          "metadata": {},
          "execution_count": 64
        }
      ]
    },
    {
      "cell_type": "code",
      "metadata": {
        "colab": {
          "base_uri": "https://localhost:8080/"
        },
        "id": "O1J71W-JUpUX",
        "outputId": "48992dd9-f068-46cc-faac-5e42a92ccc3b"
      },
      "source": [
        "X_train.dtypes"
      ],
      "execution_count": null,
      "outputs": [
        {
          "output_type": "execute_result",
          "data": {
            "text/plain": [
              "country                                              int64\n",
              "Date                                                object\n",
              "No. of suspected cases                             float64\n",
              "No. of probable cases                              float64\n",
              "No. of confirmed cases                             float64\n",
              "No. of suspected deaths                            float64\n",
              "No. of probable deaths                             float64\n",
              "No. of confirmed deaths                            float64\n",
              "No. of confirmed, probable and suspected deaths    float64\n",
              "dtype: object"
            ]
          },
          "metadata": {},
          "execution_count": 65
        }
      ]
    },
    {
      "cell_type": "code",
      "metadata": {
        "colab": {
          "base_uri": "https://localhost:8080/",
          "height": 323
        },
        "id": "qUYnod_TUx0d",
        "outputId": "3cf854cc-716b-48db-c09f-98130789003f"
      },
      "source": [
        "X_train.head().fillna(df.mean())"
      ],
      "execution_count": null,
      "outputs": [
        {
          "output_type": "execute_result",
          "data": {
            "text/html": [
              "<div>\n",
              "<style scoped>\n",
              "    .dataframe tbody tr th:only-of-type {\n",
              "        vertical-align: middle;\n",
              "    }\n",
              "\n",
              "    .dataframe tbody tr th {\n",
              "        vertical-align: top;\n",
              "    }\n",
              "\n",
              "    .dataframe thead th {\n",
              "        text-align: right;\n",
              "    }\n",
              "</style>\n",
              "<table border=\"1\" class=\"dataframe\">\n",
              "  <thead>\n",
              "    <tr style=\"text-align: right;\">\n",
              "      <th></th>\n",
              "      <th>country</th>\n",
              "      <th>Date</th>\n",
              "      <th>No. of suspected cases</th>\n",
              "      <th>No. of probable cases</th>\n",
              "      <th>No. of confirmed cases</th>\n",
              "      <th>No. of suspected deaths</th>\n",
              "      <th>No. of probable deaths</th>\n",
              "      <th>No. of confirmed deaths</th>\n",
              "      <th>No. of confirmed, probable and suspected deaths</th>\n",
              "    </tr>\n",
              "  </thead>\n",
              "  <tbody>\n",
              "    <tr>\n",
              "      <th>2412</th>\n",
              "      <td>0</td>\n",
              "      <td>2015-12-15</td>\n",
              "      <td>3.0</td>\n",
              "      <td>453.0</td>\n",
              "      <td>3351.0</td>\n",
              "      <td>0.0</td>\n",
              "      <td>453.0</td>\n",
              "      <td>2083.0</td>\n",
              "      <td>2536.0</td>\n",
              "    </tr>\n",
              "    <tr>\n",
              "      <th>792</th>\n",
              "      <td>5</td>\n",
              "      <td>2015-04-15</td>\n",
              "      <td>0.0</td>\n",
              "      <td>0.0</td>\n",
              "      <td>1.0</td>\n",
              "      <td>0.0</td>\n",
              "      <td>0.0</td>\n",
              "      <td>0.0</td>\n",
              "      <td>0.0</td>\n",
              "    </tr>\n",
              "    <tr>\n",
              "      <th>162</th>\n",
              "      <td>2</td>\n",
              "      <td>2014-11-26</td>\n",
              "      <td>2687.0</td>\n",
              "      <td>1754.0</td>\n",
              "      <td>2727.0</td>\n",
              "      <td>0.0</td>\n",
              "      <td>1.0</td>\n",
              "      <td>2.0</td>\n",
              "      <td>3016.0</td>\n",
              "    </tr>\n",
              "    <tr>\n",
              "      <th>1292</th>\n",
              "      <td>0</td>\n",
              "      <td>2015-06-29</td>\n",
              "      <td>13.0</td>\n",
              "      <td>443.0</td>\n",
              "      <td>3268.0</td>\n",
              "      <td>0.0</td>\n",
              "      <td>443.0</td>\n",
              "      <td>2039.0</td>\n",
              "      <td>2482.0</td>\n",
              "    </tr>\n",
              "    <tr>\n",
              "      <th>526</th>\n",
              "      <td>6</td>\n",
              "      <td>2015-02-16</td>\n",
              "      <td>2588.0</td>\n",
              "      <td>287.0</td>\n",
              "      <td>8199.0</td>\n",
              "      <td>158.0</td>\n",
              "      <td>208.0</td>\n",
              "      <td>3035.0</td>\n",
              "      <td>3401.0</td>\n",
              "    </tr>\n",
              "  </tbody>\n",
              "</table>\n",
              "</div>"
            ],
            "text/plain": [
              "      country  ... No. of confirmed, probable and suspected deaths\n",
              "2412        0  ...                                          2536.0\n",
              "792         5  ...                                             0.0\n",
              "162         2  ...                                          3016.0\n",
              "1292        0  ...                                          2482.0\n",
              "526         6  ...                                          3401.0\n",
              "\n",
              "[5 rows x 9 columns]"
            ]
          },
          "metadata": {},
          "execution_count": 66
        }
      ]
    },
    {
      "cell_type": "code",
      "metadata": {
        "colab": {
          "base_uri": "https://localhost:8080/",
          "height": 323
        },
        "id": "KmaCI-ZaU1tT",
        "outputId": "48219205-6cb0-4ed1-8e26-2fe17a6d7409"
      },
      "source": [
        "X_train.head()"
      ],
      "execution_count": null,
      "outputs": [
        {
          "output_type": "execute_result",
          "data": {
            "text/html": [
              "<div>\n",
              "<style scoped>\n",
              "    .dataframe tbody tr th:only-of-type {\n",
              "        vertical-align: middle;\n",
              "    }\n",
              "\n",
              "    .dataframe tbody tr th {\n",
              "        vertical-align: top;\n",
              "    }\n",
              "\n",
              "    .dataframe thead th {\n",
              "        text-align: right;\n",
              "    }\n",
              "</style>\n",
              "<table border=\"1\" class=\"dataframe\">\n",
              "  <thead>\n",
              "    <tr style=\"text-align: right;\">\n",
              "      <th></th>\n",
              "      <th>country</th>\n",
              "      <th>Date</th>\n",
              "      <th>No. of suspected cases</th>\n",
              "      <th>No. of probable cases</th>\n",
              "      <th>No. of confirmed cases</th>\n",
              "      <th>No. of suspected deaths</th>\n",
              "      <th>No. of probable deaths</th>\n",
              "      <th>No. of confirmed deaths</th>\n",
              "      <th>No. of confirmed, probable and suspected deaths</th>\n",
              "    </tr>\n",
              "  </thead>\n",
              "  <tbody>\n",
              "    <tr>\n",
              "      <th>2412</th>\n",
              "      <td>0</td>\n",
              "      <td>2015-12-15</td>\n",
              "      <td>3.0</td>\n",
              "      <td>453.0</td>\n",
              "      <td>3351.0</td>\n",
              "      <td>0.0</td>\n",
              "      <td>453.0</td>\n",
              "      <td>2083.0</td>\n",
              "      <td>2536.0</td>\n",
              "    </tr>\n",
              "    <tr>\n",
              "      <th>792</th>\n",
              "      <td>5</td>\n",
              "      <td>2015-04-15</td>\n",
              "      <td>0.0</td>\n",
              "      <td>0.0</td>\n",
              "      <td>1.0</td>\n",
              "      <td>0.0</td>\n",
              "      <td>0.0</td>\n",
              "      <td>0.0</td>\n",
              "      <td>0.0</td>\n",
              "    </tr>\n",
              "    <tr>\n",
              "      <th>162</th>\n",
              "      <td>2</td>\n",
              "      <td>2014-11-26</td>\n",
              "      <td>2687.0</td>\n",
              "      <td>1754.0</td>\n",
              "      <td>2727.0</td>\n",
              "      <td>0.0</td>\n",
              "      <td>1.0</td>\n",
              "      <td>2.0</td>\n",
              "      <td>3016.0</td>\n",
              "    </tr>\n",
              "    <tr>\n",
              "      <th>1292</th>\n",
              "      <td>0</td>\n",
              "      <td>2015-06-29</td>\n",
              "      <td>13.0</td>\n",
              "      <td>443.0</td>\n",
              "      <td>3268.0</td>\n",
              "      <td>0.0</td>\n",
              "      <td>443.0</td>\n",
              "      <td>2039.0</td>\n",
              "      <td>2482.0</td>\n",
              "    </tr>\n",
              "    <tr>\n",
              "      <th>526</th>\n",
              "      <td>6</td>\n",
              "      <td>2015-02-16</td>\n",
              "      <td>2588.0</td>\n",
              "      <td>287.0</td>\n",
              "      <td>8199.0</td>\n",
              "      <td>158.0</td>\n",
              "      <td>208.0</td>\n",
              "      <td>3035.0</td>\n",
              "      <td>3401.0</td>\n",
              "    </tr>\n",
              "  </tbody>\n",
              "</table>\n",
              "</div>"
            ],
            "text/plain": [
              "      country  ... No. of confirmed, probable and suspected deaths\n",
              "2412        0  ...                                          2536.0\n",
              "792         5  ...                                             0.0\n",
              "162         2  ...                                          3016.0\n",
              "1292        0  ...                                          2482.0\n",
              "526         6  ...                                          3401.0\n",
              "\n",
              "[5 rows x 9 columns]"
            ]
          },
          "metadata": {},
          "execution_count": 67
        }
      ]
    },
    {
      "cell_type": "code",
      "metadata": {
        "colab": {
          "base_uri": "https://localhost:8080/"
        },
        "id": "01NYLtMLU2wZ",
        "outputId": "d9393488-f303-4fef-82ca-0abf909d6232"
      },
      "source": [
        "pip install --upgrade category_encoders"
      ],
      "execution_count": null,
      "outputs": [
        {
          "output_type": "stream",
          "name": "stdout",
          "text": [
            "Collecting category_encoders\n",
            "  Downloading category_encoders-2.2.2-py2.py3-none-any.whl (80 kB)\n",
            "\u001b[?25l\r\u001b[K     |████                            | 10 kB 21.3 MB/s eta 0:00:01\r\u001b[K     |████████▏                       | 20 kB 22.5 MB/s eta 0:00:01\r\u001b[K     |████████████▏                   | 30 kB 20.8 MB/s eta 0:00:01\r\u001b[K     |████████████████▎               | 40 kB 13.4 MB/s eta 0:00:01\r\u001b[K     |████████████████████▎           | 51 kB 6.1 MB/s eta 0:00:01\r\u001b[K     |████████████████████████▍       | 61 kB 5.5 MB/s eta 0:00:01\r\u001b[K     |████████████████████████████▍   | 71 kB 6.0 MB/s eta 0:00:01\r\u001b[K     |████████████████████████████████| 80 kB 4.0 MB/s \n",
            "\u001b[?25hRequirement already satisfied: pandas>=0.21.1 in /usr/local/lib/python3.7/dist-packages (from category_encoders) (1.1.5)\n",
            "Requirement already satisfied: statsmodels>=0.9.0 in /usr/local/lib/python3.7/dist-packages (from category_encoders) (0.10.2)\n",
            "Requirement already satisfied: patsy>=0.5.1 in /usr/local/lib/python3.7/dist-packages (from category_encoders) (0.5.1)\n",
            "Requirement already satisfied: numpy>=1.14.0 in /usr/local/lib/python3.7/dist-packages (from category_encoders) (1.19.5)\n",
            "Requirement already satisfied: scipy>=1.0.0 in /usr/local/lib/python3.7/dist-packages (from category_encoders) (1.4.1)\n",
            "Requirement already satisfied: scikit-learn>=0.20.0 in /usr/local/lib/python3.7/dist-packages (from category_encoders) (0.22.2.post1)\n",
            "Requirement already satisfied: python-dateutil>=2.7.3 in /usr/local/lib/python3.7/dist-packages (from pandas>=0.21.1->category_encoders) (2.8.2)\n",
            "Requirement already satisfied: pytz>=2017.2 in /usr/local/lib/python3.7/dist-packages (from pandas>=0.21.1->category_encoders) (2018.9)\n",
            "Requirement already satisfied: six in /usr/local/lib/python3.7/dist-packages (from patsy>=0.5.1->category_encoders) (1.15.0)\n",
            "Requirement already satisfied: joblib>=0.11 in /usr/local/lib/python3.7/dist-packages (from scikit-learn>=0.20.0->category_encoders) (1.0.1)\n",
            "Installing collected packages: category-encoders\n",
            "Successfully installed category-encoders-2.2.2\n"
          ]
        }
      ]
    },
    {
      "cell_type": "code",
      "metadata": {
        "id": "KrUXhoNvU5v0"
      },
      "source": [
        "import category_encoders as ce"
      ],
      "execution_count": null,
      "outputs": []
    },
    {
      "cell_type": "code",
      "metadata": {
        "id": "AqayI4ovU8lB"
      },
      "source": [
        "encoder = ce.OrdinalEncoder(cols=['country', 'Date', 'No. of suspected cases', 'No. of probable cases', 'No. of confirmed cases',\n",
        "             'No. of suspected deaths', 'No. of probable deaths', 'No. of confirmed deaths','No. of confirmed, probable and suspected deaths'])\n",
        "\n",
        "\n",
        "X_train = encoder.fit_transform(X_train)\n",
        "\n",
        "X_test = encoder.transform(X_test)"
      ],
      "execution_count": null,
      "outputs": []
    },
    {
      "cell_type": "code",
      "metadata": {
        "colab": {
          "base_uri": "https://localhost:8080/",
          "height": 238
        },
        "id": "DApygDuHU_aC",
        "outputId": "ed6f492c-71bc-450a-cd5e-b5c9a9be275b"
      },
      "source": [
        "X_train.head()"
      ],
      "execution_count": null,
      "outputs": [
        {
          "output_type": "execute_result",
          "data": {
            "text/html": [
              "<div>\n",
              "<style scoped>\n",
              "    .dataframe tbody tr th:only-of-type {\n",
              "        vertical-align: middle;\n",
              "    }\n",
              "\n",
              "    .dataframe tbody tr th {\n",
              "        vertical-align: top;\n",
              "    }\n",
              "\n",
              "    .dataframe thead th {\n",
              "        text-align: right;\n",
              "    }\n",
              "</style>\n",
              "<table border=\"1\" class=\"dataframe\">\n",
              "  <thead>\n",
              "    <tr style=\"text-align: right;\">\n",
              "      <th></th>\n",
              "      <th>country</th>\n",
              "      <th>Date</th>\n",
              "      <th>No. of suspected cases</th>\n",
              "      <th>No. of probable cases</th>\n",
              "      <th>No. of confirmed cases</th>\n",
              "      <th>No. of suspected deaths</th>\n",
              "      <th>No. of probable deaths</th>\n",
              "      <th>No. of confirmed deaths</th>\n",
              "      <th>No. of confirmed, probable and suspected deaths</th>\n",
              "    </tr>\n",
              "  </thead>\n",
              "  <tbody>\n",
              "    <tr>\n",
              "      <th>2412</th>\n",
              "      <td>1</td>\n",
              "      <td>1</td>\n",
              "      <td>1</td>\n",
              "      <td>1</td>\n",
              "      <td>1</td>\n",
              "      <td>1</td>\n",
              "      <td>1</td>\n",
              "      <td>1</td>\n",
              "      <td>1</td>\n",
              "    </tr>\n",
              "    <tr>\n",
              "      <th>792</th>\n",
              "      <td>2</td>\n",
              "      <td>2</td>\n",
              "      <td>2</td>\n",
              "      <td>2</td>\n",
              "      <td>2</td>\n",
              "      <td>1</td>\n",
              "      <td>2</td>\n",
              "      <td>2</td>\n",
              "      <td>2</td>\n",
              "    </tr>\n",
              "    <tr>\n",
              "      <th>162</th>\n",
              "      <td>3</td>\n",
              "      <td>3</td>\n",
              "      <td>3</td>\n",
              "      <td>3</td>\n",
              "      <td>3</td>\n",
              "      <td>1</td>\n",
              "      <td>3</td>\n",
              "      <td>3</td>\n",
              "      <td>3</td>\n",
              "    </tr>\n",
              "    <tr>\n",
              "      <th>1292</th>\n",
              "      <td>1</td>\n",
              "      <td>4</td>\n",
              "      <td>4</td>\n",
              "      <td>4</td>\n",
              "      <td>4</td>\n",
              "      <td>1</td>\n",
              "      <td>4</td>\n",
              "      <td>4</td>\n",
              "      <td>4</td>\n",
              "    </tr>\n",
              "    <tr>\n",
              "      <th>526</th>\n",
              "      <td>4</td>\n",
              "      <td>5</td>\n",
              "      <td>5</td>\n",
              "      <td>5</td>\n",
              "      <td>5</td>\n",
              "      <td>2</td>\n",
              "      <td>5</td>\n",
              "      <td>5</td>\n",
              "      <td>5</td>\n",
              "    </tr>\n",
              "  </tbody>\n",
              "</table>\n",
              "</div>"
            ],
            "text/plain": [
              "      country  ...  No. of confirmed, probable and suspected deaths\n",
              "2412        1  ...                                                1\n",
              "792         2  ...                                                2\n",
              "162         3  ...                                                3\n",
              "1292        1  ...                                                4\n",
              "526         4  ...                                                5\n",
              "\n",
              "[5 rows x 9 columns]"
            ]
          },
          "metadata": {},
          "execution_count": 71
        }
      ]
    },
    {
      "cell_type": "code",
      "metadata": {
        "colab": {
          "base_uri": "https://localhost:8080/",
          "height": 238
        },
        "id": "QY9veVSgVDuJ",
        "outputId": "ae89aaad-e4e2-455e-b565-1131242bf0b2"
      },
      "source": [
        "X_test.head()"
      ],
      "execution_count": null,
      "outputs": [
        {
          "output_type": "execute_result",
          "data": {
            "text/html": [
              "<div>\n",
              "<style scoped>\n",
              "    .dataframe tbody tr th:only-of-type {\n",
              "        vertical-align: middle;\n",
              "    }\n",
              "\n",
              "    .dataframe tbody tr th {\n",
              "        vertical-align: top;\n",
              "    }\n",
              "\n",
              "    .dataframe thead th {\n",
              "        text-align: right;\n",
              "    }\n",
              "</style>\n",
              "<table border=\"1\" class=\"dataframe\">\n",
              "  <thead>\n",
              "    <tr style=\"text-align: right;\">\n",
              "      <th></th>\n",
              "      <th>country</th>\n",
              "      <th>Date</th>\n",
              "      <th>No. of suspected cases</th>\n",
              "      <th>No. of probable cases</th>\n",
              "      <th>No. of confirmed cases</th>\n",
              "      <th>No. of suspected deaths</th>\n",
              "      <th>No. of probable deaths</th>\n",
              "      <th>No. of confirmed deaths</th>\n",
              "      <th>No. of confirmed, probable and suspected deaths</th>\n",
              "    </tr>\n",
              "  </thead>\n",
              "  <tbody>\n",
              "    <tr>\n",
              "      <th>1616</th>\n",
              "      <td>9</td>\n",
              "      <td>76</td>\n",
              "      <td>2.0</td>\n",
              "      <td>2.0</td>\n",
              "      <td>2.0</td>\n",
              "      <td>1.0</td>\n",
              "      <td>3.0</td>\n",
              "      <td>3.0</td>\n",
              "      <td>2.0</td>\n",
              "    </tr>\n",
              "    <tr>\n",
              "      <th>1310</th>\n",
              "      <td>2</td>\n",
              "      <td>96</td>\n",
              "      <td>2.0</td>\n",
              "      <td>2.0</td>\n",
              "      <td>2.0</td>\n",
              "      <td>1.0</td>\n",
              "      <td>2.0</td>\n",
              "      <td>2.0</td>\n",
              "      <td>2.0</td>\n",
              "    </tr>\n",
              "    <tr>\n",
              "      <th>2282</th>\n",
              "      <td>6</td>\n",
              "      <td>197</td>\n",
              "      <td>2.0</td>\n",
              "      <td>6.0</td>\n",
              "      <td>6.0</td>\n",
              "      <td>1.0</td>\n",
              "      <td>3.0</td>\n",
              "      <td>6.0</td>\n",
              "      <td>6.0</td>\n",
              "    </tr>\n",
              "    <tr>\n",
              "      <th>433</th>\n",
              "      <td>2</td>\n",
              "      <td>37</td>\n",
              "      <td>2.0</td>\n",
              "      <td>2.0</td>\n",
              "      <td>2.0</td>\n",
              "      <td>1.0</td>\n",
              "      <td>2.0</td>\n",
              "      <td>2.0</td>\n",
              "      <td>2.0</td>\n",
              "    </tr>\n",
              "    <tr>\n",
              "      <th>1278</th>\n",
              "      <td>10</td>\n",
              "      <td>178</td>\n",
              "      <td>2.0</td>\n",
              "      <td>2.0</td>\n",
              "      <td>2.0</td>\n",
              "      <td>1.0</td>\n",
              "      <td>3.0</td>\n",
              "      <td>3.0</td>\n",
              "      <td>2.0</td>\n",
              "    </tr>\n",
              "  </tbody>\n",
              "</table>\n",
              "</div>"
            ],
            "text/plain": [
              "      country  ...  No. of confirmed, probable and suspected deaths\n",
              "1616        9  ...                                              2.0\n",
              "1310        2  ...                                              2.0\n",
              "2282        6  ...                                              6.0\n",
              "433         2  ...                                              2.0\n",
              "1278       10  ...                                              2.0\n",
              "\n",
              "[5 rows x 9 columns]"
            ]
          },
          "metadata": {},
          "execution_count": 72
        }
      ]
    },
    {
      "cell_type": "code",
      "metadata": {
        "colab": {
          "base_uri": "https://localhost:8080/"
        },
        "id": "tAmluWEwW4p4",
        "outputId": "445cbc4f-767a-43ba-f91e-eeb47cd8ed30"
      },
      "source": [
        "df.isnull().sum()"
      ],
      "execution_count": null,
      "outputs": [
        {
          "output_type": "execute_result",
          "data": {
            "text/plain": [
              "country                                            0\n",
              "Date                                               0\n",
              "No. of suspected cases                             0\n",
              "No. of probable cases                              0\n",
              "No. of confirmed cases                             0\n",
              "No. of confirmed, probable and suspected cases     0\n",
              "No. of suspected deaths                            0\n",
              "No. of probable deaths                             0\n",
              "No. of confirmed deaths                            0\n",
              "No. of confirmed, probable and suspected deaths    0\n",
              "dtype: int64"
            ]
          },
          "metadata": {},
          "execution_count": 73
        }
      ]
    },
    {
      "cell_type": "code",
      "metadata": {
        "colab": {
          "base_uri": "https://localhost:8080/"
        },
        "id": "ffvQF4IGVGgQ",
        "outputId": "2f8f556e-b3dd-40ee-8fbe-6fd3489243ba"
      },
      "source": [
        "from sklearn.ensemble import RandomForestClassifier\n",
        "# instantiate the classifier \n",
        "\n",
        "rfc = RandomForestClassifier(random_state=0)\n",
        "\n",
        "# fit the model\n",
        "\n",
        "rfc.fit(X_train, y_train)\n",
        "\n",
        "# Predict the Test set results\n",
        "y_pred = rfc.predict(X_test)\n",
        "\n",
        "# Check accuracy score \n",
        "\n",
        "from sklearn.metrics import accuracy_score\n",
        "print('Model accuracy score is: {0:0.4f}'. format(accuracy_score(y_test, y_pred)))"
      ],
      "execution_count": null,
      "outputs": [
        {
          "output_type": "stream",
          "name": "stdout",
          "text": [
            "Model accuracy score is: 0.8197\n"
          ]
        }
      ]
    }
  ]
}